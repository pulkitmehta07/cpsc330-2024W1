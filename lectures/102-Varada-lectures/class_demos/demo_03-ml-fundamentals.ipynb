{
 "cells": [
  {
   "cell_type": "markdown",
   "metadata": {
    "tags": []
   },
   "source": [
    "# Lecture 3: ML Fundamentals Class Demo"
   ]
  },
  {
   "cell_type": "markdown",
   "metadata": {
    "slideshow": {
     "slide_type": "skip"
    }
   },
   "source": [
    "## Imports"
   ]
  },
  {
   "cell_type": "code",
<<<<<<< HEAD
   "execution_count": 19,
=======
   "execution_count": 1,
>>>>>>> 79bafd7a3b3c6edaed7833b4c2e97f5f5778226f
   "metadata": {
    "slideshow": {
     "slide_type": "skip"
    }
   },
   "outputs": [],
   "source": [
    "# import the libraries\n",
    "import os\n",
    "import sys\n",
    "sys.path.append(os.path.join(os.path.abspath(\"..\"), (\"..\"), \"code\"))\n",
    "# from plotting_functions import *\n",
    "from utils import *\n",
    "\n",
    "import matplotlib.pyplot as plt\n",
    "import numpy as np\n",
    "import pandas as pd\n",
    "\n",
    "%matplotlib inline\n",
    "\n",
    "DATA_DIR = os.path.join(os.path.abspath(\"..\"), (\"..\"), \"data/\")\n",
    "pd.set_option(\"display.max_colwidth\", 200)"
   ]
  },
  {
   "cell_type": "markdown",
   "metadata": {
    "slideshow": {
     "slide_type": "skip"
    }
   },
   "source": [
    "<br><br>"
   ]
  },
  {
   "cell_type": "markdown",
   "metadata": {},
   "source": [
    "## \n",
    "\n",
    "Let's bring back King County housing sale prediction data from the course introduction video. You can download the data from [here](https://www.kaggle.com/harlfoxem/housesalesprediction). "
   ]
  },
  {
   "cell_type": "code",
<<<<<<< HEAD
   "execution_count": 20,
=======
   "execution_count": 2,
>>>>>>> 79bafd7a3b3c6edaed7833b4c2e97f5f5778226f
   "metadata": {},
   "outputs": [
    {
     "data": {
      "text/html": [
       "<div>\n",
       "<style scoped>\n",
       "    .dataframe tbody tr th:only-of-type {\n",
       "        vertical-align: middle;\n",
       "    }\n",
       "\n",
       "    .dataframe tbody tr th {\n",
       "        vertical-align: top;\n",
       "    }\n",
       "\n",
       "    .dataframe thead th {\n",
       "        text-align: right;\n",
       "    }\n",
       "</style>\n",
       "<table border=\"1\" class=\"dataframe\">\n",
       "  <thead>\n",
       "    <tr style=\"text-align: right;\">\n",
       "      <th></th>\n",
       "      <th>id</th>\n",
       "      <th>date</th>\n",
       "      <th>price</th>\n",
       "      <th>bedrooms</th>\n",
       "      <th>bathrooms</th>\n",
       "      <th>sqft_living</th>\n",
       "      <th>sqft_lot</th>\n",
       "      <th>floors</th>\n",
       "      <th>waterfront</th>\n",
       "      <th>view</th>\n",
       "      <th>...</th>\n",
       "      <th>grade</th>\n",
       "      <th>sqft_above</th>\n",
       "      <th>sqft_basement</th>\n",
       "      <th>yr_built</th>\n",
       "      <th>yr_renovated</th>\n",
       "      <th>zipcode</th>\n",
       "      <th>lat</th>\n",
       "      <th>long</th>\n",
       "      <th>sqft_living15</th>\n",
       "      <th>sqft_lot15</th>\n",
       "    </tr>\n",
       "  </thead>\n",
       "  <tbody>\n",
       "    <tr>\n",
       "      <th>0</th>\n",
       "      <td>7129300520</td>\n",
       "      <td>20141013T000000</td>\n",
       "      <td>221900.0</td>\n",
       "      <td>3</td>\n",
       "      <td>1.00</td>\n",
       "      <td>1180</td>\n",
       "      <td>5650</td>\n",
       "      <td>1.0</td>\n",
       "      <td>0</td>\n",
       "      <td>0</td>\n",
       "      <td>...</td>\n",
       "      <td>7</td>\n",
       "      <td>1180</td>\n",
       "      <td>0</td>\n",
       "      <td>1955</td>\n",
       "      <td>0</td>\n",
       "      <td>98178</td>\n",
       "      <td>47.5112</td>\n",
       "      <td>-122.257</td>\n",
       "      <td>1340</td>\n",
       "      <td>5650</td>\n",
       "    </tr>\n",
       "    <tr>\n",
       "      <th>1</th>\n",
       "      <td>6414100192</td>\n",
       "      <td>20141209T000000</td>\n",
       "      <td>538000.0</td>\n",
       "      <td>3</td>\n",
       "      <td>2.25</td>\n",
       "      <td>2570</td>\n",
       "      <td>7242</td>\n",
       "      <td>2.0</td>\n",
       "      <td>0</td>\n",
       "      <td>0</td>\n",
       "      <td>...</td>\n",
       "      <td>7</td>\n",
       "      <td>2170</td>\n",
       "      <td>400</td>\n",
       "      <td>1951</td>\n",
       "      <td>1991</td>\n",
       "      <td>98125</td>\n",
       "      <td>47.7210</td>\n",
       "      <td>-122.319</td>\n",
       "      <td>1690</td>\n",
       "      <td>7639</td>\n",
       "    </tr>\n",
       "    <tr>\n",
       "      <th>2</th>\n",
       "      <td>5631500400</td>\n",
       "      <td>20150225T000000</td>\n",
       "      <td>180000.0</td>\n",
       "      <td>2</td>\n",
       "      <td>1.00</td>\n",
       "      <td>770</td>\n",
       "      <td>10000</td>\n",
       "      <td>1.0</td>\n",
       "      <td>0</td>\n",
       "      <td>0</td>\n",
       "      <td>...</td>\n",
       "      <td>6</td>\n",
       "      <td>770</td>\n",
       "      <td>0</td>\n",
       "      <td>1933</td>\n",
       "      <td>0</td>\n",
       "      <td>98028</td>\n",
       "      <td>47.7379</td>\n",
       "      <td>-122.233</td>\n",
       "      <td>2720</td>\n",
       "      <td>8062</td>\n",
       "    </tr>\n",
       "    <tr>\n",
       "      <th>3</th>\n",
       "      <td>2487200875</td>\n",
       "      <td>20141209T000000</td>\n",
       "      <td>604000.0</td>\n",
       "      <td>4</td>\n",
       "      <td>3.00</td>\n",
       "      <td>1960</td>\n",
       "      <td>5000</td>\n",
       "      <td>1.0</td>\n",
       "      <td>0</td>\n",
       "      <td>0</td>\n",
       "      <td>...</td>\n",
       "      <td>7</td>\n",
       "      <td>1050</td>\n",
       "      <td>910</td>\n",
       "      <td>1965</td>\n",
       "      <td>0</td>\n",
       "      <td>98136</td>\n",
       "      <td>47.5208</td>\n",
       "      <td>-122.393</td>\n",
       "      <td>1360</td>\n",
       "      <td>5000</td>\n",
       "    </tr>\n",
       "    <tr>\n",
       "      <th>4</th>\n",
       "      <td>1954400510</td>\n",
       "      <td>20150218T000000</td>\n",
       "      <td>510000.0</td>\n",
       "      <td>3</td>\n",
       "      <td>2.00</td>\n",
       "      <td>1680</td>\n",
       "      <td>8080</td>\n",
       "      <td>1.0</td>\n",
       "      <td>0</td>\n",
       "      <td>0</td>\n",
       "      <td>...</td>\n",
       "      <td>8</td>\n",
       "      <td>1680</td>\n",
       "      <td>0</td>\n",
       "      <td>1987</td>\n",
       "      <td>0</td>\n",
       "      <td>98074</td>\n",
       "      <td>47.6168</td>\n",
       "      <td>-122.045</td>\n",
       "      <td>1800</td>\n",
       "      <td>7503</td>\n",
       "    </tr>\n",
       "    <tr>\n",
       "      <th>...</th>\n",
       "      <td>...</td>\n",
       "      <td>...</td>\n",
       "      <td>...</td>\n",
       "      <td>...</td>\n",
       "      <td>...</td>\n",
       "      <td>...</td>\n",
       "      <td>...</td>\n",
       "      <td>...</td>\n",
       "      <td>...</td>\n",
       "      <td>...</td>\n",
       "      <td>...</td>\n",
       "      <td>...</td>\n",
       "      <td>...</td>\n",
       "      <td>...</td>\n",
       "      <td>...</td>\n",
       "      <td>...</td>\n",
       "      <td>...</td>\n",
       "      <td>...</td>\n",
       "      <td>...</td>\n",
       "      <td>...</td>\n",
       "      <td>...</td>\n",
       "    </tr>\n",
       "    <tr>\n",
       "      <th>21608</th>\n",
       "      <td>263000018</td>\n",
       "      <td>20140521T000000</td>\n",
       "      <td>360000.0</td>\n",
       "      <td>3</td>\n",
       "      <td>2.50</td>\n",
       "      <td>1530</td>\n",
       "      <td>1131</td>\n",
       "      <td>3.0</td>\n",
       "      <td>0</td>\n",
       "      <td>0</td>\n",
       "      <td>...</td>\n",
       "      <td>8</td>\n",
       "      <td>1530</td>\n",
       "      <td>0</td>\n",
       "      <td>2009</td>\n",
       "      <td>0</td>\n",
       "      <td>98103</td>\n",
       "      <td>47.6993</td>\n",
       "      <td>-122.346</td>\n",
       "      <td>1530</td>\n",
       "      <td>1509</td>\n",
       "    </tr>\n",
       "    <tr>\n",
       "      <th>21609</th>\n",
       "      <td>6600060120</td>\n",
       "      <td>20150223T000000</td>\n",
       "      <td>400000.0</td>\n",
       "      <td>4</td>\n",
       "      <td>2.50</td>\n",
       "      <td>2310</td>\n",
       "      <td>5813</td>\n",
       "      <td>2.0</td>\n",
       "      <td>0</td>\n",
       "      <td>0</td>\n",
       "      <td>...</td>\n",
       "      <td>8</td>\n",
       "      <td>2310</td>\n",
       "      <td>0</td>\n",
       "      <td>2014</td>\n",
       "      <td>0</td>\n",
       "      <td>98146</td>\n",
       "      <td>47.5107</td>\n",
       "      <td>-122.362</td>\n",
       "      <td>1830</td>\n",
       "      <td>7200</td>\n",
       "    </tr>\n",
       "    <tr>\n",
       "      <th>21610</th>\n",
       "      <td>1523300141</td>\n",
       "      <td>20140623T000000</td>\n",
       "      <td>402101.0</td>\n",
       "      <td>2</td>\n",
       "      <td>0.75</td>\n",
       "      <td>1020</td>\n",
       "      <td>1350</td>\n",
       "      <td>2.0</td>\n",
       "      <td>0</td>\n",
       "      <td>0</td>\n",
       "      <td>...</td>\n",
       "      <td>7</td>\n",
       "      <td>1020</td>\n",
       "      <td>0</td>\n",
       "      <td>2009</td>\n",
       "      <td>0</td>\n",
       "      <td>98144</td>\n",
       "      <td>47.5944</td>\n",
       "      <td>-122.299</td>\n",
       "      <td>1020</td>\n",
       "      <td>2007</td>\n",
       "    </tr>\n",
       "    <tr>\n",
       "      <th>21611</th>\n",
       "      <td>291310100</td>\n",
       "      <td>20150116T000000</td>\n",
       "      <td>400000.0</td>\n",
       "      <td>3</td>\n",
       "      <td>2.50</td>\n",
       "      <td>1600</td>\n",
       "      <td>2388</td>\n",
       "      <td>2.0</td>\n",
       "      <td>0</td>\n",
       "      <td>0</td>\n",
       "      <td>...</td>\n",
       "      <td>8</td>\n",
       "      <td>1600</td>\n",
       "      <td>0</td>\n",
       "      <td>2004</td>\n",
       "      <td>0</td>\n",
       "      <td>98027</td>\n",
       "      <td>47.5345</td>\n",
       "      <td>-122.069</td>\n",
       "      <td>1410</td>\n",
       "      <td>1287</td>\n",
       "    </tr>\n",
       "    <tr>\n",
       "      <th>21612</th>\n",
       "      <td>1523300157</td>\n",
       "      <td>20141015T000000</td>\n",
       "      <td>325000.0</td>\n",
       "      <td>2</td>\n",
       "      <td>0.75</td>\n",
       "      <td>1020</td>\n",
       "      <td>1076</td>\n",
       "      <td>2.0</td>\n",
       "      <td>0</td>\n",
       "      <td>0</td>\n",
       "      <td>...</td>\n",
       "      <td>7</td>\n",
       "      <td>1020</td>\n",
       "      <td>0</td>\n",
       "      <td>2008</td>\n",
       "      <td>0</td>\n",
       "      <td>98144</td>\n",
       "      <td>47.5941</td>\n",
       "      <td>-122.299</td>\n",
       "      <td>1020</td>\n",
       "      <td>1357</td>\n",
       "    </tr>\n",
       "  </tbody>\n",
       "</table>\n",
       "<p>21613 rows × 21 columns</p>\n",
       "</div>"
      ],
      "text/plain": [
       "               id             date     price  bedrooms  bathrooms  \\\n",
       "0      7129300520  20141013T000000  221900.0         3       1.00   \n",
       "1      6414100192  20141209T000000  538000.0         3       2.25   \n",
       "2      5631500400  20150225T000000  180000.0         2       1.00   \n",
       "3      2487200875  20141209T000000  604000.0         4       3.00   \n",
       "4      1954400510  20150218T000000  510000.0         3       2.00   \n",
       "...           ...              ...       ...       ...        ...   \n",
       "21608   263000018  20140521T000000  360000.0         3       2.50   \n",
       "21609  6600060120  20150223T000000  400000.0         4       2.50   \n",
       "21610  1523300141  20140623T000000  402101.0         2       0.75   \n",
       "21611   291310100  20150116T000000  400000.0         3       2.50   \n",
       "21612  1523300157  20141015T000000  325000.0         2       0.75   \n",
       "\n",
       "       sqft_living  sqft_lot  floors  waterfront  view  ...  grade  \\\n",
       "0             1180      5650     1.0           0     0  ...      7   \n",
       "1             2570      7242     2.0           0     0  ...      7   \n",
       "2              770     10000     1.0           0     0  ...      6   \n",
       "3             1960      5000     1.0           0     0  ...      7   \n",
       "4             1680      8080     1.0           0     0  ...      8   \n",
       "...            ...       ...     ...         ...   ...  ...    ...   \n",
       "21608         1530      1131     3.0           0     0  ...      8   \n",
       "21609         2310      5813     2.0           0     0  ...      8   \n",
       "21610         1020      1350     2.0           0     0  ...      7   \n",
       "21611         1600      2388     2.0           0     0  ...      8   \n",
       "21612         1020      1076     2.0           0     0  ...      7   \n",
       "\n",
       "       sqft_above  sqft_basement  yr_built  yr_renovated  zipcode      lat  \\\n",
       "0            1180              0      1955             0    98178  47.5112   \n",
       "1            2170            400      1951          1991    98125  47.7210   \n",
       "2             770              0      1933             0    98028  47.7379   \n",
       "3            1050            910      1965             0    98136  47.5208   \n",
       "4            1680              0      1987             0    98074  47.6168   \n",
       "...           ...            ...       ...           ...      ...      ...   \n",
       "21608        1530              0      2009             0    98103  47.6993   \n",
       "21609        2310              0      2014             0    98146  47.5107   \n",
       "21610        1020              0      2009             0    98144  47.5944   \n",
       "21611        1600              0      2004             0    98027  47.5345   \n",
       "21612        1020              0      2008             0    98144  47.5941   \n",
       "\n",
       "          long  sqft_living15  sqft_lot15  \n",
       "0     -122.257           1340        5650  \n",
       "1     -122.319           1690        7639  \n",
       "2     -122.233           2720        8062  \n",
       "3     -122.393           1360        5000  \n",
       "4     -122.045           1800        7503  \n",
       "...        ...            ...         ...  \n",
       "21608 -122.346           1530        1509  \n",
       "21609 -122.362           1830        7200  \n",
       "21610 -122.299           1020        2007  \n",
       "21611 -122.069           1410        1287  \n",
       "21612 -122.299           1020        1357  \n",
       "\n",
       "[21613 rows x 21 columns]"
      ]
     },
<<<<<<< HEAD
     "execution_count": 20,
=======
     "execution_count": 2,
>>>>>>> 79bafd7a3b3c6edaed7833b4c2e97f5f5778226f
     "metadata": {},
     "output_type": "execute_result"
    }
   ],
   "source": [
    "housing_df = pd.read_csv(DATA_DIR + 'kc_house_data.csv')\n",
    "housing_df"
   ]
  },
  {
   "cell_type": "markdown",
   "metadata": {},
   "source": [
    "## Exploratory Data Analysis"
   ]
  },
  {
   "cell_type": "markdown",
   "metadata": {},
   "source": [
    "Is this a classification problem or a regression problem? "
   ]
  },
  {
   "cell_type": "code",
<<<<<<< HEAD
   "execution_count": 21,
=======
   "execution_count": 3,
>>>>>>> 79bafd7a3b3c6edaed7833b4c2e97f5f5778226f
   "metadata": {},
   "outputs": [
    {
     "data": {
      "text/plain": [
       "21613"
      ]
     },
     "execution_count": 3,
     "metadata": {},
     "output_type": "execute_result"
    }
   ],
   "source": [
    "# How many data points do we have? \n",
    "housing_df.shape[0]"
   ]
  },
  {
   "cell_type": "code",
<<<<<<< HEAD
   "execution_count": 22,
=======
   "execution_count": 4,
>>>>>>> 79bafd7a3b3c6edaed7833b4c2e97f5f5778226f
   "metadata": {},
   "outputs": [
    {
     "data": {
      "text/plain": [
       "Index(['id', 'date', 'price', 'bedrooms', 'bathrooms', 'sqft_living',\n",
       "       'sqft_lot', 'floors', 'waterfront', 'view', 'condition', 'grade',\n",
       "       'sqft_above', 'sqft_basement', 'yr_built', 'yr_renovated', 'zipcode',\n",
       "       'lat', 'long', 'sqft_living15', 'sqft_lot15'],\n",
       "      dtype='object')"
      ]
     },
     "execution_count": 4,
     "metadata": {},
     "output_type": "execute_result"
    }
   ],
   "source": [
    "# What are the columns in the dataset? \n",
    "housing_df.columns"
   ]
  },
  {
   "cell_type": "markdown",
   "metadata": {},
   "source": [
    "Let's explore some features. Let's try the `describe()` method"
   ]
  },
  {
   "cell_type": "code",
<<<<<<< HEAD
   "execution_count": 23,
=======
   "execution_count": 5,
>>>>>>> 79bafd7a3b3c6edaed7833b4c2e97f5f5778226f
   "metadata": {},
   "outputs": [
    {
     "data": {
      "text/html": [
       "<div>\n",
       "<style scoped>\n",
       "    .dataframe tbody tr th:only-of-type {\n",
       "        vertical-align: middle;\n",
       "    }\n",
       "\n",
       "    .dataframe tbody tr th {\n",
       "        vertical-align: top;\n",
       "    }\n",
       "\n",
       "    .dataframe thead th {\n",
       "        text-align: right;\n",
       "    }\n",
       "</style>\n",
       "<table border=\"1\" class=\"dataframe\">\n",
       "  <thead>\n",
       "    <tr style=\"text-align: right;\">\n",
       "      <th></th>\n",
       "      <th>id</th>\n",
<<<<<<< HEAD
       "      <th>date</th>\n",
=======
>>>>>>> 79bafd7a3b3c6edaed7833b4c2e97f5f5778226f
       "      <th>price</th>\n",
       "      <th>bedrooms</th>\n",
       "      <th>bathrooms</th>\n",
       "      <th>sqft_living</th>\n",
       "      <th>sqft_lot</th>\n",
       "      <th>floors</th>\n",
       "      <th>waterfront</th>\n",
       "      <th>view</th>\n",
<<<<<<< HEAD
       "      <th>...</th>\n",
=======
       "      <th>condition</th>\n",
>>>>>>> 79bafd7a3b3c6edaed7833b4c2e97f5f5778226f
       "      <th>grade</th>\n",
       "      <th>sqft_above</th>\n",
       "      <th>sqft_basement</th>\n",
       "      <th>yr_built</th>\n",
       "      <th>yr_renovated</th>\n",
       "      <th>zipcode</th>\n",
       "      <th>lat</th>\n",
       "      <th>long</th>\n",
       "      <th>sqft_living15</th>\n",
       "      <th>sqft_lot15</th>\n",
       "    </tr>\n",
       "  </thead>\n",
       "  <tbody>\n",
       "    <tr>\n",
       "      <th>count</th>\n",
       "      <td>2.161300e+04</td>\n",
<<<<<<< HEAD
       "      <td>21613</td>\n",
=======
>>>>>>> 79bafd7a3b3c6edaed7833b4c2e97f5f5778226f
       "      <td>2.161300e+04</td>\n",
       "      <td>21613.000000</td>\n",
       "      <td>21613.000000</td>\n",
       "      <td>21613.000000</td>\n",
       "      <td>2.161300e+04</td>\n",
       "      <td>21613.000000</td>\n",
       "      <td>21613.000000</td>\n",
       "      <td>21613.000000</td>\n",
<<<<<<< HEAD
       "      <td>...</td>\n",
=======
>>>>>>> 79bafd7a3b3c6edaed7833b4c2e97f5f5778226f
       "      <td>21613.000000</td>\n",
       "      <td>21613.000000</td>\n",
       "      <td>21613.000000</td>\n",
       "      <td>21613.000000</td>\n",
       "      <td>21613.000000</td>\n",
       "      <td>21613.000000</td>\n",
       "      <td>21613.000000</td>\n",
       "      <td>21613.000000</td>\n",
       "      <td>21613.000000</td>\n",
       "      <td>21613.000000</td>\n",
<<<<<<< HEAD
       "    </tr>\n",
       "    <tr>\n",
       "      <th>unique</th>\n",
       "      <td>NaN</td>\n",
       "      <td>372</td>\n",
       "      <td>NaN</td>\n",
       "      <td>NaN</td>\n",
       "      <td>NaN</td>\n",
       "      <td>NaN</td>\n",
       "      <td>NaN</td>\n",
       "      <td>NaN</td>\n",
       "      <td>NaN</td>\n",
       "      <td>NaN</td>\n",
       "      <td>...</td>\n",
       "      <td>NaN</td>\n",
       "      <td>NaN</td>\n",
       "      <td>NaN</td>\n",
       "      <td>NaN</td>\n",
       "      <td>NaN</td>\n",
       "      <td>NaN</td>\n",
       "      <td>NaN</td>\n",
       "      <td>NaN</td>\n",
       "      <td>NaN</td>\n",
       "      <td>NaN</td>\n",
       "    </tr>\n",
       "    <tr>\n",
       "      <th>top</th>\n",
       "      <td>NaN</td>\n",
       "      <td>20140623T000000</td>\n",
       "      <td>NaN</td>\n",
       "      <td>NaN</td>\n",
       "      <td>NaN</td>\n",
       "      <td>NaN</td>\n",
       "      <td>NaN</td>\n",
       "      <td>NaN</td>\n",
       "      <td>NaN</td>\n",
       "      <td>NaN</td>\n",
       "      <td>...</td>\n",
       "      <td>NaN</td>\n",
       "      <td>NaN</td>\n",
       "      <td>NaN</td>\n",
       "      <td>NaN</td>\n",
       "      <td>NaN</td>\n",
       "      <td>NaN</td>\n",
       "      <td>NaN</td>\n",
       "      <td>NaN</td>\n",
       "      <td>NaN</td>\n",
       "      <td>NaN</td>\n",
       "    </tr>\n",
       "    <tr>\n",
       "      <th>freq</th>\n",
       "      <td>NaN</td>\n",
       "      <td>142</td>\n",
       "      <td>NaN</td>\n",
       "      <td>NaN</td>\n",
       "      <td>NaN</td>\n",
       "      <td>NaN</td>\n",
       "      <td>NaN</td>\n",
       "      <td>NaN</td>\n",
       "      <td>NaN</td>\n",
       "      <td>NaN</td>\n",
       "      <td>...</td>\n",
       "      <td>NaN</td>\n",
       "      <td>NaN</td>\n",
       "      <td>NaN</td>\n",
       "      <td>NaN</td>\n",
       "      <td>NaN</td>\n",
       "      <td>NaN</td>\n",
       "      <td>NaN</td>\n",
       "      <td>NaN</td>\n",
       "      <td>NaN</td>\n",
       "      <td>NaN</td>\n",
=======
       "      <td>21613.000000</td>\n",
>>>>>>> 79bafd7a3b3c6edaed7833b4c2e97f5f5778226f
       "    </tr>\n",
       "    <tr>\n",
       "      <th>mean</th>\n",
       "      <td>4.580302e+09</td>\n",
<<<<<<< HEAD
       "      <td>NaN</td>\n",
=======
>>>>>>> 79bafd7a3b3c6edaed7833b4c2e97f5f5778226f
       "      <td>5.400881e+05</td>\n",
       "      <td>3.370842</td>\n",
       "      <td>2.114757</td>\n",
       "      <td>2079.899736</td>\n",
       "      <td>1.510697e+04</td>\n",
       "      <td>1.494309</td>\n",
       "      <td>0.007542</td>\n",
       "      <td>0.234303</td>\n",
<<<<<<< HEAD
       "      <td>...</td>\n",
=======
       "      <td>3.409430</td>\n",
>>>>>>> 79bafd7a3b3c6edaed7833b4c2e97f5f5778226f
       "      <td>7.656873</td>\n",
       "      <td>1788.390691</td>\n",
       "      <td>291.509045</td>\n",
       "      <td>1971.005136</td>\n",
       "      <td>84.402258</td>\n",
       "      <td>98077.939805</td>\n",
       "      <td>47.560053</td>\n",
       "      <td>-122.213896</td>\n",
       "      <td>1986.552492</td>\n",
       "      <td>12768.455652</td>\n",
       "    </tr>\n",
       "    <tr>\n",
       "      <th>std</th>\n",
       "      <td>2.876566e+09</td>\n",
<<<<<<< HEAD
       "      <td>NaN</td>\n",
=======
>>>>>>> 79bafd7a3b3c6edaed7833b4c2e97f5f5778226f
       "      <td>3.671272e+05</td>\n",
       "      <td>0.930062</td>\n",
       "      <td>0.770163</td>\n",
       "      <td>918.440897</td>\n",
       "      <td>4.142051e+04</td>\n",
       "      <td>0.539989</td>\n",
       "      <td>0.086517</td>\n",
       "      <td>0.766318</td>\n",
<<<<<<< HEAD
       "      <td>...</td>\n",
=======
       "      <td>0.650743</td>\n",
>>>>>>> 79bafd7a3b3c6edaed7833b4c2e97f5f5778226f
       "      <td>1.175459</td>\n",
       "      <td>828.090978</td>\n",
       "      <td>442.575043</td>\n",
       "      <td>29.373411</td>\n",
       "      <td>401.679240</td>\n",
       "      <td>53.505026</td>\n",
       "      <td>0.138564</td>\n",
       "      <td>0.140828</td>\n",
       "      <td>685.391304</td>\n",
       "      <td>27304.179631</td>\n",
       "    </tr>\n",
       "    <tr>\n",
       "      <th>min</th>\n",
       "      <td>1.000102e+06</td>\n",
<<<<<<< HEAD
       "      <td>NaN</td>\n",
=======
>>>>>>> 79bafd7a3b3c6edaed7833b4c2e97f5f5778226f
       "      <td>7.500000e+04</td>\n",
       "      <td>0.000000</td>\n",
       "      <td>0.000000</td>\n",
       "      <td>290.000000</td>\n",
       "      <td>5.200000e+02</td>\n",
       "      <td>1.000000</td>\n",
       "      <td>0.000000</td>\n",
       "      <td>0.000000</td>\n",
<<<<<<< HEAD
       "      <td>...</td>\n",
=======
       "      <td>1.000000</td>\n",
>>>>>>> 79bafd7a3b3c6edaed7833b4c2e97f5f5778226f
       "      <td>1.000000</td>\n",
       "      <td>290.000000</td>\n",
       "      <td>0.000000</td>\n",
       "      <td>1900.000000</td>\n",
       "      <td>0.000000</td>\n",
       "      <td>98001.000000</td>\n",
       "      <td>47.155900</td>\n",
       "      <td>-122.519000</td>\n",
       "      <td>399.000000</td>\n",
       "      <td>651.000000</td>\n",
       "    </tr>\n",
       "    <tr>\n",
       "      <th>25%</th>\n",
       "      <td>2.123049e+09</td>\n",
<<<<<<< HEAD
       "      <td>NaN</td>\n",
=======
>>>>>>> 79bafd7a3b3c6edaed7833b4c2e97f5f5778226f
       "      <td>3.219500e+05</td>\n",
       "      <td>3.000000</td>\n",
       "      <td>1.750000</td>\n",
       "      <td>1427.000000</td>\n",
       "      <td>5.040000e+03</td>\n",
       "      <td>1.000000</td>\n",
       "      <td>0.000000</td>\n",
       "      <td>0.000000</td>\n",
<<<<<<< HEAD
       "      <td>...</td>\n",
=======
       "      <td>3.000000</td>\n",
>>>>>>> 79bafd7a3b3c6edaed7833b4c2e97f5f5778226f
       "      <td>7.000000</td>\n",
       "      <td>1190.000000</td>\n",
       "      <td>0.000000</td>\n",
       "      <td>1951.000000</td>\n",
       "      <td>0.000000</td>\n",
       "      <td>98033.000000</td>\n",
       "      <td>47.471000</td>\n",
       "      <td>-122.328000</td>\n",
       "      <td>1490.000000</td>\n",
       "      <td>5100.000000</td>\n",
       "    </tr>\n",
       "    <tr>\n",
       "      <th>50%</th>\n",
       "      <td>3.904930e+09</td>\n",
<<<<<<< HEAD
       "      <td>NaN</td>\n",
=======
>>>>>>> 79bafd7a3b3c6edaed7833b4c2e97f5f5778226f
       "      <td>4.500000e+05</td>\n",
       "      <td>3.000000</td>\n",
       "      <td>2.250000</td>\n",
       "      <td>1910.000000</td>\n",
       "      <td>7.618000e+03</td>\n",
       "      <td>1.500000</td>\n",
       "      <td>0.000000</td>\n",
       "      <td>0.000000</td>\n",
<<<<<<< HEAD
       "      <td>...</td>\n",
=======
       "      <td>3.000000</td>\n",
>>>>>>> 79bafd7a3b3c6edaed7833b4c2e97f5f5778226f
       "      <td>7.000000</td>\n",
       "      <td>1560.000000</td>\n",
       "      <td>0.000000</td>\n",
       "      <td>1975.000000</td>\n",
       "      <td>0.000000</td>\n",
       "      <td>98065.000000</td>\n",
       "      <td>47.571800</td>\n",
       "      <td>-122.230000</td>\n",
       "      <td>1840.000000</td>\n",
       "      <td>7620.000000</td>\n",
       "    </tr>\n",
       "    <tr>\n",
       "      <th>75%</th>\n",
       "      <td>7.308900e+09</td>\n",
<<<<<<< HEAD
       "      <td>NaN</td>\n",
=======
>>>>>>> 79bafd7a3b3c6edaed7833b4c2e97f5f5778226f
       "      <td>6.450000e+05</td>\n",
       "      <td>4.000000</td>\n",
       "      <td>2.500000</td>\n",
       "      <td>2550.000000</td>\n",
       "      <td>1.068800e+04</td>\n",
       "      <td>2.000000</td>\n",
       "      <td>0.000000</td>\n",
       "      <td>0.000000</td>\n",
<<<<<<< HEAD
       "      <td>...</td>\n",
=======
       "      <td>4.000000</td>\n",
>>>>>>> 79bafd7a3b3c6edaed7833b4c2e97f5f5778226f
       "      <td>8.000000</td>\n",
       "      <td>2210.000000</td>\n",
       "      <td>560.000000</td>\n",
       "      <td>1997.000000</td>\n",
       "      <td>0.000000</td>\n",
       "      <td>98118.000000</td>\n",
       "      <td>47.678000</td>\n",
       "      <td>-122.125000</td>\n",
       "      <td>2360.000000</td>\n",
       "      <td>10083.000000</td>\n",
       "    </tr>\n",
       "    <tr>\n",
       "      <th>max</th>\n",
       "      <td>9.900000e+09</td>\n",
<<<<<<< HEAD
       "      <td>NaN</td>\n",
=======
>>>>>>> 79bafd7a3b3c6edaed7833b4c2e97f5f5778226f
       "      <td>7.700000e+06</td>\n",
       "      <td>33.000000</td>\n",
       "      <td>8.000000</td>\n",
       "      <td>13540.000000</td>\n",
       "      <td>1.651359e+06</td>\n",
       "      <td>3.500000</td>\n",
       "      <td>1.000000</td>\n",
       "      <td>4.000000</td>\n",
<<<<<<< HEAD
       "      <td>...</td>\n",
=======
       "      <td>5.000000</td>\n",
>>>>>>> 79bafd7a3b3c6edaed7833b4c2e97f5f5778226f
       "      <td>13.000000</td>\n",
       "      <td>9410.000000</td>\n",
       "      <td>4820.000000</td>\n",
       "      <td>2015.000000</td>\n",
       "      <td>2015.000000</td>\n",
       "      <td>98199.000000</td>\n",
       "      <td>47.777600</td>\n",
       "      <td>-121.315000</td>\n",
       "      <td>6210.000000</td>\n",
       "      <td>871200.000000</td>\n",
       "    </tr>\n",
       "  </tbody>\n",
       "</table>\n",
<<<<<<< HEAD
       "<p>11 rows × 21 columns</p>\n",
       "</div>"
      ],
      "text/plain": [
       "                  id             date         price      bedrooms  \\\n",
       "count   2.161300e+04            21613  2.161300e+04  21613.000000   \n",
       "unique           NaN              372           NaN           NaN   \n",
       "top              NaN  20140623T000000           NaN           NaN   \n",
       "freq             NaN              142           NaN           NaN   \n",
       "mean    4.580302e+09              NaN  5.400881e+05      3.370842   \n",
       "std     2.876566e+09              NaN  3.671272e+05      0.930062   \n",
       "min     1.000102e+06              NaN  7.500000e+04      0.000000   \n",
       "25%     2.123049e+09              NaN  3.219500e+05      3.000000   \n",
       "50%     3.904930e+09              NaN  4.500000e+05      3.000000   \n",
       "75%     7.308900e+09              NaN  6.450000e+05      4.000000   \n",
       "max     9.900000e+09              NaN  7.700000e+06     33.000000   \n",
       "\n",
       "           bathrooms   sqft_living      sqft_lot        floors    waterfront  \\\n",
       "count   21613.000000  21613.000000  2.161300e+04  21613.000000  21613.000000   \n",
       "unique           NaN           NaN           NaN           NaN           NaN   \n",
       "top              NaN           NaN           NaN           NaN           NaN   \n",
       "freq             NaN           NaN           NaN           NaN           NaN   \n",
       "mean        2.114757   2079.899736  1.510697e+04      1.494309      0.007542   \n",
       "std         0.770163    918.440897  4.142051e+04      0.539989      0.086517   \n",
       "min         0.000000    290.000000  5.200000e+02      1.000000      0.000000   \n",
       "25%         1.750000   1427.000000  5.040000e+03      1.000000      0.000000   \n",
       "50%         2.250000   1910.000000  7.618000e+03      1.500000      0.000000   \n",
       "75%         2.500000   2550.000000  1.068800e+04      2.000000      0.000000   \n",
       "max         8.000000  13540.000000  1.651359e+06      3.500000      1.000000   \n",
       "\n",
       "                view  ...         grade    sqft_above  sqft_basement  \\\n",
       "count   21613.000000  ...  21613.000000  21613.000000   21613.000000   \n",
       "unique           NaN  ...           NaN           NaN            NaN   \n",
       "top              NaN  ...           NaN           NaN            NaN   \n",
       "freq             NaN  ...           NaN           NaN            NaN   \n",
       "mean        0.234303  ...      7.656873   1788.390691     291.509045   \n",
       "std         0.766318  ...      1.175459    828.090978     442.575043   \n",
       "min         0.000000  ...      1.000000    290.000000       0.000000   \n",
       "25%         0.000000  ...      7.000000   1190.000000       0.000000   \n",
       "50%         0.000000  ...      7.000000   1560.000000       0.000000   \n",
       "75%         0.000000  ...      8.000000   2210.000000     560.000000   \n",
       "max         4.000000  ...     13.000000   9410.000000    4820.000000   \n",
       "\n",
       "            yr_built  yr_renovated       zipcode           lat          long  \\\n",
       "count   21613.000000  21613.000000  21613.000000  21613.000000  21613.000000   \n",
       "unique           NaN           NaN           NaN           NaN           NaN   \n",
       "top              NaN           NaN           NaN           NaN           NaN   \n",
       "freq             NaN           NaN           NaN           NaN           NaN   \n",
       "mean     1971.005136     84.402258  98077.939805     47.560053   -122.213896   \n",
       "std        29.373411    401.679240     53.505026      0.138564      0.140828   \n",
       "min      1900.000000      0.000000  98001.000000     47.155900   -122.519000   \n",
       "25%      1951.000000      0.000000  98033.000000     47.471000   -122.328000   \n",
       "50%      1975.000000      0.000000  98065.000000     47.571800   -122.230000   \n",
       "75%      1997.000000      0.000000  98118.000000     47.678000   -122.125000   \n",
       "max      2015.000000   2015.000000  98199.000000     47.777600   -121.315000   \n",
       "\n",
       "        sqft_living15     sqft_lot15  \n",
       "count    21613.000000   21613.000000  \n",
       "unique            NaN            NaN  \n",
       "top               NaN            NaN  \n",
       "freq              NaN            NaN  \n",
       "mean      1986.552492   12768.455652  \n",
       "std        685.391304   27304.179631  \n",
       "min        399.000000     651.000000  \n",
       "25%       1490.000000    5100.000000  \n",
       "50%       1840.000000    7620.000000  \n",
       "75%       2360.000000   10083.000000  \n",
       "max       6210.000000  871200.000000  \n",
       "\n",
       "[11 rows x 21 columns]"
      ]
     },
     "execution_count": 23,
=======
       "</div>"
      ],
      "text/plain": [
       "                 id         price      bedrooms     bathrooms   sqft_living  \\\n",
       "count  2.161300e+04  2.161300e+04  21613.000000  21613.000000  21613.000000   \n",
       "mean   4.580302e+09  5.400881e+05      3.370842      2.114757   2079.899736   \n",
       "std    2.876566e+09  3.671272e+05      0.930062      0.770163    918.440897   \n",
       "min    1.000102e+06  7.500000e+04      0.000000      0.000000    290.000000   \n",
       "25%    2.123049e+09  3.219500e+05      3.000000      1.750000   1427.000000   \n",
       "50%    3.904930e+09  4.500000e+05      3.000000      2.250000   1910.000000   \n",
       "75%    7.308900e+09  6.450000e+05      4.000000      2.500000   2550.000000   \n",
       "max    9.900000e+09  7.700000e+06     33.000000      8.000000  13540.000000   \n",
       "\n",
       "           sqft_lot        floors    waterfront          view     condition  \\\n",
       "count  2.161300e+04  21613.000000  21613.000000  21613.000000  21613.000000   \n",
       "mean   1.510697e+04      1.494309      0.007542      0.234303      3.409430   \n",
       "std    4.142051e+04      0.539989      0.086517      0.766318      0.650743   \n",
       "min    5.200000e+02      1.000000      0.000000      0.000000      1.000000   \n",
       "25%    5.040000e+03      1.000000      0.000000      0.000000      3.000000   \n",
       "50%    7.618000e+03      1.500000      0.000000      0.000000      3.000000   \n",
       "75%    1.068800e+04      2.000000      0.000000      0.000000      4.000000   \n",
       "max    1.651359e+06      3.500000      1.000000      4.000000      5.000000   \n",
       "\n",
       "              grade    sqft_above  sqft_basement      yr_built  yr_renovated  \\\n",
       "count  21613.000000  21613.000000   21613.000000  21613.000000  21613.000000   \n",
       "mean       7.656873   1788.390691     291.509045   1971.005136     84.402258   \n",
       "std        1.175459    828.090978     442.575043     29.373411    401.679240   \n",
       "min        1.000000    290.000000       0.000000   1900.000000      0.000000   \n",
       "25%        7.000000   1190.000000       0.000000   1951.000000      0.000000   \n",
       "50%        7.000000   1560.000000       0.000000   1975.000000      0.000000   \n",
       "75%        8.000000   2210.000000     560.000000   1997.000000      0.000000   \n",
       "max       13.000000   9410.000000    4820.000000   2015.000000   2015.000000   \n",
       "\n",
       "            zipcode           lat          long  sqft_living15     sqft_lot15  \n",
       "count  21613.000000  21613.000000  21613.000000   21613.000000   21613.000000  \n",
       "mean   98077.939805     47.560053   -122.213896    1986.552492   12768.455652  \n",
       "std       53.505026      0.138564      0.140828     685.391304   27304.179631  \n",
       "min    98001.000000     47.155900   -122.519000     399.000000     651.000000  \n",
       "25%    98033.000000     47.471000   -122.328000    1490.000000    5100.000000  \n",
       "50%    98065.000000     47.571800   -122.230000    1840.000000    7620.000000  \n",
       "75%    98118.000000     47.678000   -122.125000    2360.000000   10083.000000  \n",
       "max    98199.000000     47.777600   -121.315000    6210.000000  871200.000000  "
      ]
     },
     "execution_count": 5,
>>>>>>> 79bafd7a3b3c6edaed7833b4c2e97f5f5778226f
     "metadata": {},
     "output_type": "execute_result"
    }
   ],
   "source": [
    "housing_df.describe()"
   ]
  },
  {
   "cell_type": "markdown",
   "metadata": {},
   "source": [
    "Do we need to keep all the columns? "
   ]
  },
  {
   "cell_type": "code",
<<<<<<< HEAD
   "execution_count": 24,
=======
   "execution_count": 6,
>>>>>>> 79bafd7a3b3c6edaed7833b4c2e97f5f5778226f
   "metadata": {},
   "outputs": [
    {
     "data": {
      "text/plain": [
       "21436"
      ]
     },
<<<<<<< HEAD
     "execution_count": 24,
=======
     "execution_count": 6,
>>>>>>> 79bafd7a3b3c6edaed7833b4c2e97f5f5778226f
     "metadata": {},
     "output_type": "execute_result"
    }
   ],
   "source": [
    "housing_df['id'].unique().shape[0]"
   ]
  },
  {
   "cell_type": "code",
<<<<<<< HEAD
   "execution_count": 25,
=======
   "execution_count": 7,
>>>>>>> 79bafd7a3b3c6edaed7833b4c2e97f5f5778226f
   "metadata": {},
   "outputs": [
    {
     "data": {
      "text/plain": [
       "zipcode\n",
       "98103    602\n",
       "98038    590\n",
       "98115    583\n",
       "98052    574\n",
       "98117    553\n",
       "        ... \n",
       "98102    105\n",
       "98010    100\n",
       "98024     81\n",
       "98148     57\n",
       "98039     50\n",
       "Name: count, Length: 70, dtype: int64"
      ]
     },
<<<<<<< HEAD
     "execution_count": 25,
=======
     "execution_count": 7,
>>>>>>> 79bafd7a3b3c6edaed7833b4c2e97f5f5778226f
     "metadata": {},
     "output_type": "execute_result"
    }
   ],
   "source": [
    "housing_df['zipcode'].value_counts()"
   ]
  },
  {
   "cell_type": "code",
<<<<<<< HEAD
   "execution_count": 26,
=======
   "execution_count": 8,
>>>>>>> 79bafd7a3b3c6edaed7833b4c2e97f5f5778226f
   "metadata": {},
   "outputs": [
    {
     "data": {
      "text/plain": [
       "Index(['October', 'December', 'February'], dtype='object')"
      ]
     },
     "execution_count": 8,
     "metadata": {},
     "output_type": "execute_result"
    }
   ],
   "source": [
    "dates = pd.to_datetime(['20141013T000000', '20141209T000000', '20150218T000000'], format='%Y%m%dT%H%M%S')\n",
    "dates.month_name()"
   ]
  },
  {
   "cell_type": "code",
<<<<<<< HEAD
   "execution_count": 27,
=======
   "execution_count": 9,
>>>>>>> 79bafd7a3b3c6edaed7833b4c2e97f5f5778226f
   "metadata": {},
   "outputs": [
    {
     "data": {
      "text/plain": [
       "waterfront\n",
       "0    21450\n",
       "1      163\n",
       "Name: count, dtype: int64"
      ]
     },
<<<<<<< HEAD
     "execution_count": 27,
=======
     "execution_count": 9,
>>>>>>> 79bafd7a3b3c6edaed7833b4c2e97f5f5778226f
     "metadata": {},
     "output_type": "execute_result"
    }
   ],
   "source": [
    "# What are the value counts of the `waterfront` feature? \n",
    "housing_df['waterfront'].value_counts()"
   ]
  },
  {
   "cell_type": "code",
<<<<<<< HEAD
   "execution_count": 28,
=======
   "execution_count": 10,
>>>>>>> 79bafd7a3b3c6edaed7833b4c2e97f5f5778226f
   "metadata": {},
   "outputs": [
    {
     "data": {
      "text/plain": [
       "yr_renovated\n",
       "0       20699\n",
       "2014       91\n",
       "2013       37\n",
       "2003       36\n",
       "2005       35\n",
       "        ...  \n",
       "1951        1\n",
       "1959        1\n",
       "1948        1\n",
       "1954        1\n",
       "1944        1\n",
       "Name: count, Length: 70, dtype: int64"
      ]
     },
<<<<<<< HEAD
     "execution_count": 28,
=======
     "execution_count": 10,
>>>>>>> 79bafd7a3b3c6edaed7833b4c2e97f5f5778226f
     "metadata": {},
     "output_type": "execute_result"
    }
   ],
   "source": [
    "# What are the value_counts of `yr_renovated` feature? \n",
    "housing_df['yr_renovated'].value_counts()"
   ]
  },
  {
   "cell_type": "markdown",
   "metadata": {},
   "source": [
    "Many opportunities to clean the data but we'll stop here. "
   ]
  },
  {
   "cell_type": "markdown",
   "metadata": {},
   "source": [
    "Let's create `X` and `y`. "
   ]
  },
  {
   "cell_type": "code",
<<<<<<< HEAD
   "execution_count": 34,
=======
   "execution_count": 11,
>>>>>>> 79bafd7a3b3c6edaed7833b4c2e97f5f5778226f
   "metadata": {},
   "outputs": [],
   "source": [
    "X = housing_df.drop(columns = ['id', 'date', 'zipcode', 'price'])"
   ]
  },
  {
   "cell_type": "code",
<<<<<<< HEAD
   "execution_count": 30,
=======
   "execution_count": 12,
>>>>>>> 79bafd7a3b3c6edaed7833b4c2e97f5f5778226f
   "metadata": {},
   "outputs": [],
   "source": [
    "y = housing_df['price']"
   ]
  },
  {
   "cell_type": "markdown",
   "metadata": {},
   "source": [
    "<br><br>"
   ]
  },
  {
   "cell_type": "markdown",
   "metadata": {},
   "source": [
    "## Baseline model "
   ]
  },
  {
   "cell_type": "code",
<<<<<<< HEAD
   "execution_count": 31,
=======
   "execution_count": 13,
>>>>>>> 79bafd7a3b3c6edaed7833b4c2e97f5f5778226f
   "metadata": {},
   "outputs": [
    {
     "data": {
      "text/plain": [
       "0.0"
      ]
     },
<<<<<<< HEAD
     "execution_count": 31,
=======
     "execution_count": 13,
>>>>>>> 79bafd7a3b3c6edaed7833b4c2e97f5f5778226f
     "metadata": {},
     "output_type": "execute_result"
    }
   ],
   "source": [
    "# Train a DummyRegressor model \n",
    "\n",
    "from sklearn.dummy import DummyRegressor # Import DummyRegressor \n",
    "\n",
    "# Create a class object for the sklearn model.\n",
    "dummy_regr = DummyRegressor()\n",
<<<<<<< HEAD
    "\n",
=======
>>>>>>> 79bafd7a3b3c6edaed7833b4c2e97f5f5778226f
    "\n",
    "# fit the dummy regressor\n",
    "dummy_regr.fit(X,y)\n",
    "\n",
    "# score the model \n",
    "dummy_regr.score(X,y)\n"
   ]
  },
  {
   "cell_type": "markdown",
   "metadata": {},
   "source": [
    "How to interpret the score here? "
   ]
  },
  {
   "cell_type": "code",
<<<<<<< HEAD
   "execution_count": 32,
=======
   "execution_count": 14,
>>>>>>> 79bafd7a3b3c6edaed7833b4c2e97f5f5778226f
   "metadata": {},
   "outputs": [
    {
     "data": {
      "text/plain": [
       "array([540088.14176653, 540088.14176653, 540088.14176653, ...,\n",
       "       540088.14176653, 540088.14176653, 540088.14176653])"
      ]
     },
<<<<<<< HEAD
     "execution_count": 32,
=======
     "execution_count": 14,
>>>>>>> 79bafd7a3b3c6edaed7833b4c2e97f5f5778226f
     "metadata": {},
     "output_type": "execute_result"
    }
   ],
   "source": [
    "# predict on X using the model\n",
    "dummy_regr.predict(X)"
   ]
  },
  {
   "cell_type": "markdown",
   "metadata": {},
   "source": [
    "<br><br>"
   ]
  },
  {
   "cell_type": "markdown",
   "metadata": {},
   "source": [
    "## Decision tree model "
   ]
  },
  {
   "cell_type": "code",
<<<<<<< HEAD
   "execution_count": 35,
=======
   "execution_count": 15,
>>>>>>> 79bafd7a3b3c6edaed7833b4c2e97f5f5778226f
   "metadata": {},
   "outputs": [
    {
     "data": {
      "text/plain": [
       "0.9991338290544213"
      ]
     },
<<<<<<< HEAD
     "execution_count": 35,
=======
     "execution_count": 15,
>>>>>>> 79bafd7a3b3c6edaed7833b4c2e97f5f5778226f
     "metadata": {},
     "output_type": "execute_result"
    }
   ],
   "source": [
    "# Train a decision tree model \n",
    "\n",
    "from sklearn.tree import DecisionTreeRegressor # Import DecisionTreeRegressor \n",
    "\n",
    "# Create a class object for the sklearn model.\n",
<<<<<<< HEAD
    "dt_regr = DecisionTreeRegressor(random_state = 123)\n",
=======
    "dt_regr = DecisionTreeRegressor(random_state=123)\n",
>>>>>>> 79bafd7a3b3c6edaed7833b4c2e97f5f5778226f
    "\n",
    "\n",
    "# fit the decision tree regressor \n",
    "dt_regr.fit(X,y)\n",
    "\n",
    "# score the model \n",
    "dt_regr.score(X,y)"
   ]
  },
  {
   "cell_type": "markdown",
   "metadata": {},
   "source": [
    "We are getting a perfect accuracy. Should we be happy with this model and deploy it? Why or why not?"
   ]
  },
  {
   "cell_type": "markdown",
   "metadata": {},
   "source": [
    "What's the depth of this model? "
   ]
  },
  {
   "cell_type": "code",
<<<<<<< HEAD
   "execution_count": 36,
=======
   "execution_count": 16,
>>>>>>> 79bafd7a3b3c6edaed7833b4c2e97f5f5778226f
   "metadata": {},
   "outputs": [
    {
     "data": {
      "text/plain": [
       "38"
      ]
     },
<<<<<<< HEAD
     "execution_count": 36,
=======
     "execution_count": 16,
>>>>>>> 79bafd7a3b3c6edaed7833b4c2e97f5f5778226f
     "metadata": {},
     "output_type": "execute_result"
    }
   ],
   "source": [
    "dt_regr.get_depth()"
   ]
  },
  {
   "cell_type": "markdown",
   "metadata": {},
   "source": [
    "<br><br>"
   ]
  },
  {
   "cell_type": "markdown",
   "metadata": {},
   "source": [
    "## Data splitting "
   ]
  },
  {
   "cell_type": "markdown",
   "metadata": {},
   "source": [
    "Let's split the data and  \n",
    "- Train on the train split \n",
    "- Score on the test split"
   ]
  },
  {
   "cell_type": "code",
<<<<<<< HEAD
   "execution_count": 46,
=======
   "execution_count": 17,
>>>>>>> 79bafd7a3b3c6edaed7833b4c2e97f5f5778226f
   "metadata": {},
   "outputs": [],
   "source": [
    "# Split the data \n",
    "from sklearn.model_selection import train_test_split\n",
    "X_train, X_test, y_train, y_test = train_test_split(X, y, test_size=0.2, random_state=123)"
   ]
  },
  {
   "cell_type": "code",
<<<<<<< HEAD
   "execution_count": 47,
=======
   "execution_count": 18,
>>>>>>> 79bafd7a3b3c6edaed7833b4c2e97f5f5778226f
   "metadata": {},
   "outputs": [
    {
     "data": {
      "text/plain": [
       "0.9994394006711425"
      ]
     },
<<<<<<< HEAD
     "execution_count": 47,
=======
     "execution_count": 18,
>>>>>>> 79bafd7a3b3c6edaed7833b4c2e97f5f5778226f
     "metadata": {},
     "output_type": "execute_result"
    }
   ],
   "source": [
    "# Instantiate a class object \n",
    "dt = DecisionTreeRegressor(random_state=123)\n",
    "\n",
    "# Train a decision tree on X_train, y_train\n",
    "dt.fit(X_train, y_train)\n",
    "\n",
    "# Score on the train set\n",
    "dt.score(X_train, y_train)\n"
   ]
  },
  {
   "cell_type": "code",
<<<<<<< HEAD
   "execution_count": 48,
=======
   "execution_count": 19,
>>>>>>> 79bafd7a3b3c6edaed7833b4c2e97f5f5778226f
   "metadata": {},
   "outputs": [
    {
     "data": {
      "text/plain": [
       "0.719915905190645"
      ]
     },
<<<<<<< HEAD
     "execution_count": 48,
=======
     "execution_count": 19,
>>>>>>> 79bafd7a3b3c6edaed7833b4c2e97f5f5778226f
     "metadata": {},
     "output_type": "execute_result"
    }
   ],
   "source": [
    "# Score on the test set\n",
    "dt.score(X_test, y_test)\n"
   ]
  },
  {
   "cell_type": "markdown",
   "metadata": {},
   "source": [
    "### Activity: Discuss the following questions in your group\n",
    "\n",
    "- Why is there a large gap between train and test scores? \n",
    "- What would be the effect of increasing or decreasing `test_size`?\n",
    "- Why are we setting the `random_state`? Is it a good idea to try a bunch of values for the `random_state` and pick the one which gives the best scores? \n",
    "- Would it be possible to further improve the scores? "
   ]
  },
  {
   "cell_type": "markdown",
   "metadata": {},
   "source": [
    "<br><br>"
   ]
  },
  {
   "cell_type": "markdown",
   "metadata": {},
   "source": [
    "## Hyperparameter optimization \n",
    "\n",
    "Let's try out different tree depths. "
   ]
  },
  {
   "cell_type": "code",
<<<<<<< HEAD
   "execution_count": 49,
=======
   "execution_count": 20,
>>>>>>> 79bafd7a3b3c6edaed7833b4c2e97f5f5778226f
   "metadata": {},
   "outputs": [
    {
     "data": {
      "text/html": [
<<<<<<< HEAD
       "<style>#sk-container-id-3 {\n",
=======
       "<style>#sk-container-id-1 {\n",
>>>>>>> 79bafd7a3b3c6edaed7833b4c2e97f5f5778226f
       "  /* Definition of color scheme common for light and dark mode */\n",
       "  --sklearn-color-text: black;\n",
       "  --sklearn-color-line: gray;\n",
       "  /* Definition of color scheme for unfitted estimators */\n",
       "  --sklearn-color-unfitted-level-0: #fff5e6;\n",
       "  --sklearn-color-unfitted-level-1: #f6e4d2;\n",
       "  --sklearn-color-unfitted-level-2: #ffe0b3;\n",
       "  --sklearn-color-unfitted-level-3: chocolate;\n",
       "  /* Definition of color scheme for fitted estimators */\n",
       "  --sklearn-color-fitted-level-0: #f0f8ff;\n",
       "  --sklearn-color-fitted-level-1: #d4ebff;\n",
       "  --sklearn-color-fitted-level-2: #b3dbfd;\n",
       "  --sklearn-color-fitted-level-3: cornflowerblue;\n",
       "\n",
       "  /* Specific color for light theme */\n",
       "  --sklearn-color-text-on-default-background: var(--sg-text-color, var(--theme-code-foreground, var(--jp-content-font-color1, black)));\n",
       "  --sklearn-color-background: var(--sg-background-color, var(--theme-background, var(--jp-layout-color0, white)));\n",
       "  --sklearn-color-border-box: var(--sg-text-color, var(--theme-code-foreground, var(--jp-content-font-color1, black)));\n",
       "  --sklearn-color-icon: #696969;\n",
       "\n",
       "  @media (prefers-color-scheme: dark) {\n",
       "    /* Redefinition of color scheme for dark theme */\n",
       "    --sklearn-color-text-on-default-background: var(--sg-text-color, var(--theme-code-foreground, var(--jp-content-font-color1, white)));\n",
       "    --sklearn-color-background: var(--sg-background-color, var(--theme-background, var(--jp-layout-color0, #111)));\n",
       "    --sklearn-color-border-box: var(--sg-text-color, var(--theme-code-foreground, var(--jp-content-font-color1, white)));\n",
       "    --sklearn-color-icon: #878787;\n",
       "  }\n",
       "}\n",
       "\n",
<<<<<<< HEAD
       "#sk-container-id-3 {\n",
       "  color: var(--sklearn-color-text);\n",
       "}\n",
       "\n",
       "#sk-container-id-3 pre {\n",
       "  padding: 0;\n",
       "}\n",
       "\n",
       "#sk-container-id-3 input.sk-hidden--visually {\n",
=======
       "#sk-container-id-1 {\n",
       "  color: var(--sklearn-color-text);\n",
       "}\n",
       "\n",
       "#sk-container-id-1 pre {\n",
       "  padding: 0;\n",
       "}\n",
       "\n",
       "#sk-container-id-1 input.sk-hidden--visually {\n",
>>>>>>> 79bafd7a3b3c6edaed7833b4c2e97f5f5778226f
       "  border: 0;\n",
       "  clip: rect(1px 1px 1px 1px);\n",
       "  clip: rect(1px, 1px, 1px, 1px);\n",
       "  height: 1px;\n",
       "  margin: -1px;\n",
       "  overflow: hidden;\n",
       "  padding: 0;\n",
       "  position: absolute;\n",
       "  width: 1px;\n",
       "}\n",
       "\n",
<<<<<<< HEAD
       "#sk-container-id-3 div.sk-dashed-wrapped {\n",
=======
       "#sk-container-id-1 div.sk-dashed-wrapped {\n",
>>>>>>> 79bafd7a3b3c6edaed7833b4c2e97f5f5778226f
       "  border: 1px dashed var(--sklearn-color-line);\n",
       "  margin: 0 0.4em 0.5em 0.4em;\n",
       "  box-sizing: border-box;\n",
       "  padding-bottom: 0.4em;\n",
       "  background-color: var(--sklearn-color-background);\n",
       "}\n",
       "\n",
<<<<<<< HEAD
       "#sk-container-id-3 div.sk-container {\n",
=======
       "#sk-container-id-1 div.sk-container {\n",
>>>>>>> 79bafd7a3b3c6edaed7833b4c2e97f5f5778226f
       "  /* jupyter's `normalize.less` sets `[hidden] { display: none; }`\n",
       "     but bootstrap.min.css set `[hidden] { display: none !important; }`\n",
       "     so we also need the `!important` here to be able to override the\n",
       "     default hidden behavior on the sphinx rendered scikit-learn.org.\n",
       "     See: https://github.com/scikit-learn/scikit-learn/issues/21755 */\n",
       "  display: inline-block !important;\n",
       "  position: relative;\n",
       "}\n",
       "\n",
<<<<<<< HEAD
       "#sk-container-id-3 div.sk-text-repr-fallback {\n",
=======
       "#sk-container-id-1 div.sk-text-repr-fallback {\n",
>>>>>>> 79bafd7a3b3c6edaed7833b4c2e97f5f5778226f
       "  display: none;\n",
       "}\n",
       "\n",
       "div.sk-parallel-item,\n",
       "div.sk-serial,\n",
       "div.sk-item {\n",
       "  /* draw centered vertical line to link estimators */\n",
       "  background-image: linear-gradient(var(--sklearn-color-text-on-default-background), var(--sklearn-color-text-on-default-background));\n",
       "  background-size: 2px 100%;\n",
       "  background-repeat: no-repeat;\n",
       "  background-position: center center;\n",
       "}\n",
       "\n",
       "/* Parallel-specific style estimator block */\n",
       "\n",
<<<<<<< HEAD
       "#sk-container-id-3 div.sk-parallel-item::after {\n",
=======
       "#sk-container-id-1 div.sk-parallel-item::after {\n",
>>>>>>> 79bafd7a3b3c6edaed7833b4c2e97f5f5778226f
       "  content: \"\";\n",
       "  width: 100%;\n",
       "  border-bottom: 2px solid var(--sklearn-color-text-on-default-background);\n",
       "  flex-grow: 1;\n",
       "}\n",
       "\n",
<<<<<<< HEAD
       "#sk-container-id-3 div.sk-parallel {\n",
=======
       "#sk-container-id-1 div.sk-parallel {\n",
>>>>>>> 79bafd7a3b3c6edaed7833b4c2e97f5f5778226f
       "  display: flex;\n",
       "  align-items: stretch;\n",
       "  justify-content: center;\n",
       "  background-color: var(--sklearn-color-background);\n",
       "  position: relative;\n",
       "}\n",
       "\n",
<<<<<<< HEAD
       "#sk-container-id-3 div.sk-parallel-item {\n",
=======
       "#sk-container-id-1 div.sk-parallel-item {\n",
>>>>>>> 79bafd7a3b3c6edaed7833b4c2e97f5f5778226f
       "  display: flex;\n",
       "  flex-direction: column;\n",
       "}\n",
       "\n",
<<<<<<< HEAD
       "#sk-container-id-3 div.sk-parallel-item:first-child::after {\n",
=======
       "#sk-container-id-1 div.sk-parallel-item:first-child::after {\n",
>>>>>>> 79bafd7a3b3c6edaed7833b4c2e97f5f5778226f
       "  align-self: flex-end;\n",
       "  width: 50%;\n",
       "}\n",
       "\n",
<<<<<<< HEAD
       "#sk-container-id-3 div.sk-parallel-item:last-child::after {\n",
=======
       "#sk-container-id-1 div.sk-parallel-item:last-child::after {\n",
>>>>>>> 79bafd7a3b3c6edaed7833b4c2e97f5f5778226f
       "  align-self: flex-start;\n",
       "  width: 50%;\n",
       "}\n",
       "\n",
<<<<<<< HEAD
       "#sk-container-id-3 div.sk-parallel-item:only-child::after {\n",
=======
       "#sk-container-id-1 div.sk-parallel-item:only-child::after {\n",
>>>>>>> 79bafd7a3b3c6edaed7833b4c2e97f5f5778226f
       "  width: 0;\n",
       "}\n",
       "\n",
       "/* Serial-specific style estimator block */\n",
       "\n",
<<<<<<< HEAD
       "#sk-container-id-3 div.sk-serial {\n",
=======
       "#sk-container-id-1 div.sk-serial {\n",
>>>>>>> 79bafd7a3b3c6edaed7833b4c2e97f5f5778226f
       "  display: flex;\n",
       "  flex-direction: column;\n",
       "  align-items: center;\n",
       "  background-color: var(--sklearn-color-background);\n",
       "  padding-right: 1em;\n",
       "  padding-left: 1em;\n",
       "}\n",
       "\n",
       "\n",
       "/* Toggleable style: style used for estimator/Pipeline/ColumnTransformer box that is\n",
       "clickable and can be expanded/collapsed.\n",
       "- Pipeline and ColumnTransformer use this feature and define the default style\n",
       "- Estimators will overwrite some part of the style using the `sk-estimator` class\n",
       "*/\n",
       "\n",
       "/* Pipeline and ColumnTransformer style (default) */\n",
       "\n",
<<<<<<< HEAD
       "#sk-container-id-3 div.sk-toggleable {\n",
=======
       "#sk-container-id-1 div.sk-toggleable {\n",
>>>>>>> 79bafd7a3b3c6edaed7833b4c2e97f5f5778226f
       "  /* Default theme specific background. It is overwritten whether we have a\n",
       "  specific estimator or a Pipeline/ColumnTransformer */\n",
       "  background-color: var(--sklearn-color-background);\n",
       "}\n",
       "\n",
       "/* Toggleable label */\n",
<<<<<<< HEAD
       "#sk-container-id-3 label.sk-toggleable__label {\n",
=======
       "#sk-container-id-1 label.sk-toggleable__label {\n",
>>>>>>> 79bafd7a3b3c6edaed7833b4c2e97f5f5778226f
       "  cursor: pointer;\n",
       "  display: block;\n",
       "  width: 100%;\n",
       "  margin-bottom: 0;\n",
       "  padding: 0.5em;\n",
       "  box-sizing: border-box;\n",
       "  text-align: center;\n",
       "}\n",
       "\n",
<<<<<<< HEAD
       "#sk-container-id-3 label.sk-toggleable__label-arrow:before {\n",
=======
       "#sk-container-id-1 label.sk-toggleable__label-arrow:before {\n",
>>>>>>> 79bafd7a3b3c6edaed7833b4c2e97f5f5778226f
       "  /* Arrow on the left of the label */\n",
       "  content: \"▸\";\n",
       "  float: left;\n",
       "  margin-right: 0.25em;\n",
       "  color: var(--sklearn-color-icon);\n",
       "}\n",
       "\n",
<<<<<<< HEAD
       "#sk-container-id-3 label.sk-toggleable__label-arrow:hover:before {\n",
=======
       "#sk-container-id-1 label.sk-toggleable__label-arrow:hover:before {\n",
>>>>>>> 79bafd7a3b3c6edaed7833b4c2e97f5f5778226f
       "  color: var(--sklearn-color-text);\n",
       "}\n",
       "\n",
       "/* Toggleable content - dropdown */\n",
       "\n",
<<<<<<< HEAD
       "#sk-container-id-3 div.sk-toggleable__content {\n",
=======
       "#sk-container-id-1 div.sk-toggleable__content {\n",
>>>>>>> 79bafd7a3b3c6edaed7833b4c2e97f5f5778226f
       "  max-height: 0;\n",
       "  max-width: 0;\n",
       "  overflow: hidden;\n",
       "  text-align: left;\n",
       "  /* unfitted */\n",
       "  background-color: var(--sklearn-color-unfitted-level-0);\n",
       "}\n",
       "\n",
<<<<<<< HEAD
       "#sk-container-id-3 div.sk-toggleable__content.fitted {\n",
=======
       "#sk-container-id-1 div.sk-toggleable__content.fitted {\n",
>>>>>>> 79bafd7a3b3c6edaed7833b4c2e97f5f5778226f
       "  /* fitted */\n",
       "  background-color: var(--sklearn-color-fitted-level-0);\n",
       "}\n",
       "\n",
<<<<<<< HEAD
       "#sk-container-id-3 div.sk-toggleable__content pre {\n",
=======
       "#sk-container-id-1 div.sk-toggleable__content pre {\n",
>>>>>>> 79bafd7a3b3c6edaed7833b4c2e97f5f5778226f
       "  margin: 0.2em;\n",
       "  border-radius: 0.25em;\n",
       "  color: var(--sklearn-color-text);\n",
       "  /* unfitted */\n",
       "  background-color: var(--sklearn-color-unfitted-level-0);\n",
       "}\n",
       "\n",
<<<<<<< HEAD
       "#sk-container-id-3 div.sk-toggleable__content.fitted pre {\n",
=======
       "#sk-container-id-1 div.sk-toggleable__content.fitted pre {\n",
>>>>>>> 79bafd7a3b3c6edaed7833b4c2e97f5f5778226f
       "  /* unfitted */\n",
       "  background-color: var(--sklearn-color-fitted-level-0);\n",
       "}\n",
       "\n",
<<<<<<< HEAD
       "#sk-container-id-3 input.sk-toggleable__control:checked~div.sk-toggleable__content {\n",
=======
       "#sk-container-id-1 input.sk-toggleable__control:checked~div.sk-toggleable__content {\n",
>>>>>>> 79bafd7a3b3c6edaed7833b4c2e97f5f5778226f
       "  /* Expand drop-down */\n",
       "  max-height: 200px;\n",
       "  max-width: 100%;\n",
       "  overflow: auto;\n",
       "}\n",
       "\n",
<<<<<<< HEAD
       "#sk-container-id-3 input.sk-toggleable__control:checked~label.sk-toggleable__label-arrow:before {\n",
=======
       "#sk-container-id-1 input.sk-toggleable__control:checked~label.sk-toggleable__label-arrow:before {\n",
>>>>>>> 79bafd7a3b3c6edaed7833b4c2e97f5f5778226f
       "  content: \"▾\";\n",
       "}\n",
       "\n",
       "/* Pipeline/ColumnTransformer-specific style */\n",
       "\n",
<<<<<<< HEAD
       "#sk-container-id-3 div.sk-label input.sk-toggleable__control:checked~label.sk-toggleable__label {\n",
=======
       "#sk-container-id-1 div.sk-label input.sk-toggleable__control:checked~label.sk-toggleable__label {\n",
>>>>>>> 79bafd7a3b3c6edaed7833b4c2e97f5f5778226f
       "  color: var(--sklearn-color-text);\n",
       "  background-color: var(--sklearn-color-unfitted-level-2);\n",
       "}\n",
       "\n",
<<<<<<< HEAD
       "#sk-container-id-3 div.sk-label.fitted input.sk-toggleable__control:checked~label.sk-toggleable__label {\n",
=======
       "#sk-container-id-1 div.sk-label.fitted input.sk-toggleable__control:checked~label.sk-toggleable__label {\n",
>>>>>>> 79bafd7a3b3c6edaed7833b4c2e97f5f5778226f
       "  background-color: var(--sklearn-color-fitted-level-2);\n",
       "}\n",
       "\n",
       "/* Estimator-specific style */\n",
       "\n",
       "/* Colorize estimator box */\n",
<<<<<<< HEAD
       "#sk-container-id-3 div.sk-estimator input.sk-toggleable__control:checked~label.sk-toggleable__label {\n",
=======
       "#sk-container-id-1 div.sk-estimator input.sk-toggleable__control:checked~label.sk-toggleable__label {\n",
>>>>>>> 79bafd7a3b3c6edaed7833b4c2e97f5f5778226f
       "  /* unfitted */\n",
       "  background-color: var(--sklearn-color-unfitted-level-2);\n",
       "}\n",
       "\n",
<<<<<<< HEAD
       "#sk-container-id-3 div.sk-estimator.fitted input.sk-toggleable__control:checked~label.sk-toggleable__label {\n",
=======
       "#sk-container-id-1 div.sk-estimator.fitted input.sk-toggleable__control:checked~label.sk-toggleable__label {\n",
>>>>>>> 79bafd7a3b3c6edaed7833b4c2e97f5f5778226f
       "  /* fitted */\n",
       "  background-color: var(--sklearn-color-fitted-level-2);\n",
       "}\n",
       "\n",
<<<<<<< HEAD
       "#sk-container-id-3 div.sk-label label.sk-toggleable__label,\n",
       "#sk-container-id-3 div.sk-label label {\n",
=======
       "#sk-container-id-1 div.sk-label label.sk-toggleable__label,\n",
       "#sk-container-id-1 div.sk-label label {\n",
>>>>>>> 79bafd7a3b3c6edaed7833b4c2e97f5f5778226f
       "  /* The background is the default theme color */\n",
       "  color: var(--sklearn-color-text-on-default-background);\n",
       "}\n",
       "\n",
       "/* On hover, darken the color of the background */\n",
<<<<<<< HEAD
       "#sk-container-id-3 div.sk-label:hover label.sk-toggleable__label {\n",
=======
       "#sk-container-id-1 div.sk-label:hover label.sk-toggleable__label {\n",
>>>>>>> 79bafd7a3b3c6edaed7833b4c2e97f5f5778226f
       "  color: var(--sklearn-color-text);\n",
       "  background-color: var(--sklearn-color-unfitted-level-2);\n",
       "}\n",
       "\n",
       "/* Label box, darken color on hover, fitted */\n",
<<<<<<< HEAD
       "#sk-container-id-3 div.sk-label.fitted:hover label.sk-toggleable__label.fitted {\n",
=======
       "#sk-container-id-1 div.sk-label.fitted:hover label.sk-toggleable__label.fitted {\n",
>>>>>>> 79bafd7a3b3c6edaed7833b4c2e97f5f5778226f
       "  color: var(--sklearn-color-text);\n",
       "  background-color: var(--sklearn-color-fitted-level-2);\n",
       "}\n",
       "\n",
       "/* Estimator label */\n",
       "\n",
<<<<<<< HEAD
       "#sk-container-id-3 div.sk-label label {\n",
=======
       "#sk-container-id-1 div.sk-label label {\n",
>>>>>>> 79bafd7a3b3c6edaed7833b4c2e97f5f5778226f
       "  font-family: monospace;\n",
       "  font-weight: bold;\n",
       "  display: inline-block;\n",
       "  line-height: 1.2em;\n",
       "}\n",
       "\n",
<<<<<<< HEAD
       "#sk-container-id-3 div.sk-label-container {\n",
=======
       "#sk-container-id-1 div.sk-label-container {\n",
>>>>>>> 79bafd7a3b3c6edaed7833b4c2e97f5f5778226f
       "  text-align: center;\n",
       "}\n",
       "\n",
       "/* Estimator-specific */\n",
<<<<<<< HEAD
       "#sk-container-id-3 div.sk-estimator {\n",
=======
       "#sk-container-id-1 div.sk-estimator {\n",
>>>>>>> 79bafd7a3b3c6edaed7833b4c2e97f5f5778226f
       "  font-family: monospace;\n",
       "  border: 1px dotted var(--sklearn-color-border-box);\n",
       "  border-radius: 0.25em;\n",
       "  box-sizing: border-box;\n",
       "  margin-bottom: 0.5em;\n",
       "  /* unfitted */\n",
       "  background-color: var(--sklearn-color-unfitted-level-0);\n",
       "}\n",
       "\n",
<<<<<<< HEAD
       "#sk-container-id-3 div.sk-estimator.fitted {\n",
=======
       "#sk-container-id-1 div.sk-estimator.fitted {\n",
>>>>>>> 79bafd7a3b3c6edaed7833b4c2e97f5f5778226f
       "  /* fitted */\n",
       "  background-color: var(--sklearn-color-fitted-level-0);\n",
       "}\n",
       "\n",
       "/* on hover */\n",
<<<<<<< HEAD
       "#sk-container-id-3 div.sk-estimator:hover {\n",
=======
       "#sk-container-id-1 div.sk-estimator:hover {\n",
>>>>>>> 79bafd7a3b3c6edaed7833b4c2e97f5f5778226f
       "  /* unfitted */\n",
       "  background-color: var(--sklearn-color-unfitted-level-2);\n",
       "}\n",
       "\n",
<<<<<<< HEAD
       "#sk-container-id-3 div.sk-estimator.fitted:hover {\n",
=======
       "#sk-container-id-1 div.sk-estimator.fitted:hover {\n",
>>>>>>> 79bafd7a3b3c6edaed7833b4c2e97f5f5778226f
       "  /* fitted */\n",
       "  background-color: var(--sklearn-color-fitted-level-2);\n",
       "}\n",
       "\n",
       "/* Specification for estimator info (e.g. \"i\" and \"?\") */\n",
       "\n",
       "/* Common style for \"i\" and \"?\" */\n",
       "\n",
       ".sk-estimator-doc-link,\n",
       "a:link.sk-estimator-doc-link,\n",
       "a:visited.sk-estimator-doc-link {\n",
       "  float: right;\n",
       "  font-size: smaller;\n",
       "  line-height: 1em;\n",
       "  font-family: monospace;\n",
       "  background-color: var(--sklearn-color-background);\n",
       "  border-radius: 1em;\n",
       "  height: 1em;\n",
       "  width: 1em;\n",
       "  text-decoration: none !important;\n",
       "  margin-left: 1ex;\n",
       "  /* unfitted */\n",
       "  border: var(--sklearn-color-unfitted-level-1) 1pt solid;\n",
       "  color: var(--sklearn-color-unfitted-level-1);\n",
       "}\n",
       "\n",
       ".sk-estimator-doc-link.fitted,\n",
       "a:link.sk-estimator-doc-link.fitted,\n",
       "a:visited.sk-estimator-doc-link.fitted {\n",
       "  /* fitted */\n",
       "  border: var(--sklearn-color-fitted-level-1) 1pt solid;\n",
       "  color: var(--sklearn-color-fitted-level-1);\n",
       "}\n",
       "\n",
       "/* On hover */\n",
       "div.sk-estimator:hover .sk-estimator-doc-link:hover,\n",
       ".sk-estimator-doc-link:hover,\n",
       "div.sk-label-container:hover .sk-estimator-doc-link:hover,\n",
       ".sk-estimator-doc-link:hover {\n",
       "  /* unfitted */\n",
       "  background-color: var(--sklearn-color-unfitted-level-3);\n",
       "  color: var(--sklearn-color-background);\n",
       "  text-decoration: none;\n",
       "}\n",
       "\n",
       "div.sk-estimator.fitted:hover .sk-estimator-doc-link.fitted:hover,\n",
       ".sk-estimator-doc-link.fitted:hover,\n",
       "div.sk-label-container:hover .sk-estimator-doc-link.fitted:hover,\n",
       ".sk-estimator-doc-link.fitted:hover {\n",
       "  /* fitted */\n",
       "  background-color: var(--sklearn-color-fitted-level-3);\n",
       "  color: var(--sklearn-color-background);\n",
       "  text-decoration: none;\n",
       "}\n",
       "\n",
       "/* Span, style for the box shown on hovering the info icon */\n",
       ".sk-estimator-doc-link span {\n",
       "  display: none;\n",
       "  z-index: 9999;\n",
       "  position: relative;\n",
       "  font-weight: normal;\n",
       "  right: .2ex;\n",
       "  padding: .5ex;\n",
       "  margin: .5ex;\n",
       "  width: min-content;\n",
       "  min-width: 20ex;\n",
       "  max-width: 50ex;\n",
       "  color: var(--sklearn-color-text);\n",
       "  box-shadow: 2pt 2pt 4pt #999;\n",
       "  /* unfitted */\n",
       "  background: var(--sklearn-color-unfitted-level-0);\n",
       "  border: .5pt solid var(--sklearn-color-unfitted-level-3);\n",
       "}\n",
       "\n",
       ".sk-estimator-doc-link.fitted span {\n",
       "  /* fitted */\n",
       "  background: var(--sklearn-color-fitted-level-0);\n",
       "  border: var(--sklearn-color-fitted-level-3);\n",
       "}\n",
       "\n",
       ".sk-estimator-doc-link:hover span {\n",
       "  display: block;\n",
       "}\n",
       "\n",
       "/* \"?\"-specific style due to the `<a>` HTML tag */\n",
       "\n",
<<<<<<< HEAD
       "#sk-container-id-3 a.estimator_doc_link {\n",
=======
       "#sk-container-id-1 a.estimator_doc_link {\n",
>>>>>>> 79bafd7a3b3c6edaed7833b4c2e97f5f5778226f
       "  float: right;\n",
       "  font-size: 1rem;\n",
       "  line-height: 1em;\n",
       "  font-family: monospace;\n",
       "  background-color: var(--sklearn-color-background);\n",
       "  border-radius: 1rem;\n",
       "  height: 1rem;\n",
       "  width: 1rem;\n",
       "  text-decoration: none;\n",
       "  /* unfitted */\n",
       "  color: var(--sklearn-color-unfitted-level-1);\n",
       "  border: var(--sklearn-color-unfitted-level-1) 1pt solid;\n",
       "}\n",
       "\n",
<<<<<<< HEAD
       "#sk-container-id-3 a.estimator_doc_link.fitted {\n",
=======
       "#sk-container-id-1 a.estimator_doc_link.fitted {\n",
>>>>>>> 79bafd7a3b3c6edaed7833b4c2e97f5f5778226f
       "  /* fitted */\n",
       "  border: var(--sklearn-color-fitted-level-1) 1pt solid;\n",
       "  color: var(--sklearn-color-fitted-level-1);\n",
       "}\n",
       "\n",
       "/* On hover */\n",
<<<<<<< HEAD
       "#sk-container-id-3 a.estimator_doc_link:hover {\n",
=======
       "#sk-container-id-1 a.estimator_doc_link:hover {\n",
>>>>>>> 79bafd7a3b3c6edaed7833b4c2e97f5f5778226f
       "  /* unfitted */\n",
       "  background-color: var(--sklearn-color-unfitted-level-3);\n",
       "  color: var(--sklearn-color-background);\n",
       "  text-decoration: none;\n",
       "}\n",
       "\n",
<<<<<<< HEAD
       "#sk-container-id-3 a.estimator_doc_link.fitted:hover {\n",
       "  /* fitted */\n",
       "  background-color: var(--sklearn-color-fitted-level-3);\n",
       "}\n",
       "</style><div id=\"sk-container-id-3\" class=\"sk-top-container\"><div class=\"sk-text-repr-fallback\"><pre>DecisionTreeRegressor(max_depth=1, random_state=123)</pre><b>In a Jupyter environment, please rerun this cell to show the HTML representation or trust the notebook. <br />On GitHub, the HTML representation is unable to render, please try loading this page with nbviewer.org.</b></div><div class=\"sk-container\" hidden><div class=\"sk-item\"><div class=\"sk-estimator fitted sk-toggleable\"><input class=\"sk-toggleable__control sk-hidden--visually\" id=\"sk-estimator-id-3\" type=\"checkbox\" checked><label for=\"sk-estimator-id-3\" class=\"sk-toggleable__label fitted sk-toggleable__label-arrow fitted\">&nbsp;&nbsp;DecisionTreeRegressor<a class=\"sk-estimator-doc-link fitted\" rel=\"noreferrer\" target=\"_blank\" href=\"https://scikit-learn.org/1.5/modules/generated/sklearn.tree.DecisionTreeRegressor.html\">?<span>Documentation for DecisionTreeRegressor</span></a><span class=\"sk-estimator-doc-link fitted\">i<span>Fitted</span></span></label><div class=\"sk-toggleable__content fitted\"><pre>DecisionTreeRegressor(max_depth=1, random_state=123)</pre></div> </div></div></div></div>"
=======
       "#sk-container-id-1 a.estimator_doc_link.fitted:hover {\n",
       "  /* fitted */\n",
       "  background-color: var(--sklearn-color-fitted-level-3);\n",
       "}\n",
       "</style><div id=\"sk-container-id-1\" class=\"sk-top-container\"><div class=\"sk-text-repr-fallback\"><pre>DecisionTreeRegressor(max_depth=1, random_state=123)</pre><b>In a Jupyter environment, please rerun this cell to show the HTML representation or trust the notebook. <br />On GitHub, the HTML representation is unable to render, please try loading this page with nbviewer.org.</b></div><div class=\"sk-container\" hidden><div class=\"sk-item\"><div class=\"sk-estimator fitted sk-toggleable\"><input class=\"sk-toggleable__control sk-hidden--visually\" id=\"sk-estimator-id-1\" type=\"checkbox\" checked><label for=\"sk-estimator-id-1\" class=\"sk-toggleable__label fitted sk-toggleable__label-arrow fitted\">&nbsp;&nbsp;DecisionTreeRegressor<a class=\"sk-estimator-doc-link fitted\" rel=\"noreferrer\" target=\"_blank\" href=\"https://scikit-learn.org/1.5/modules/generated/sklearn.tree.DecisionTreeRegressor.html\">?<span>Documentation for DecisionTreeRegressor</span></a><span class=\"sk-estimator-doc-link fitted\">i<span>Fitted</span></span></label><div class=\"sk-toggleable__content fitted\"><pre>DecisionTreeRegressor(max_depth=1, random_state=123)</pre></div> </div></div></div></div>"
>>>>>>> 79bafd7a3b3c6edaed7833b4c2e97f5f5778226f
      ],
      "text/plain": [
       "DecisionTreeRegressor(max_depth=1, random_state=123)"
      ]
     },
<<<<<<< HEAD
     "execution_count": 49,
=======
     "execution_count": 20,
>>>>>>> 79bafd7a3b3c6edaed7833b4c2e97f5f5778226f
     "metadata": {},
     "output_type": "execute_result"
    }
   ],
   "source": [
    "# max_depth= 1 \n",
    "dt = DecisionTreeRegressor(max_depth=1, random_state=123) \n",
    "dt.fit(X_train, y_train)"
   ]
  },
  {
   "cell_type": "code",
<<<<<<< HEAD
   "execution_count": 50,
=======
   "execution_count": 21,
>>>>>>> 79bafd7a3b3c6edaed7833b4c2e97f5f5778226f
   "metadata": {},
   "outputs": [
    {
     "data": {
<<<<<<< HEAD
      "text/plain": [
       "[Text(0.5, 0.75, 'grade <= 8.5\\nsamples = 17290\\nvalue = 539306.468'),\n",
       " Text(0.25, 0.25, 'samples = 13926\\nvalue = 437700.717'),\n",
       " Text(0.375, 0.5, 'True  '),\n",
       " Text(0.75, 0.25, 'samples = 3364\\nvalue = 959925.28'),\n",
       " Text(0.625, 0.5, '  False')]"
      ]
     },
     "execution_count": 50,
     "metadata": {},
     "output_type": "execute_result"
    },
    {
     "data": {
      "image/png": "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",
=======
      "image/png": "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",
>>>>>>> 79bafd7a3b3c6edaed7833b4c2e97f5f5778226f
      "text/plain": [
       "<Figure size 640x480 with 1 Axes>"
      ]
     },
     "metadata": {},
     "output_type": "display_data"
    }
   ],
   "source": [
    "# Visualize your decision stump\n",
    "from sklearn.tree import plot_tree \n",
    "plot_tree(dt, feature_names = X.columns.tolist(), impurity=False, filled=True, fontsize=10)"
   ]
  },
  {
   "cell_type": "code",
<<<<<<< HEAD
   "execution_count": 51,
=======
   "execution_count": 22,
>>>>>>> 79bafd7a3b3c6edaed7833b4c2e97f5f5778226f
   "metadata": {},
   "outputs": [
    {
     "data": {
      "text/plain": [
       "0.3209427041566191"
      ]
     },
<<<<<<< HEAD
     "execution_count": 51,
=======
     "execution_count": 22,
>>>>>>> 79bafd7a3b3c6edaed7833b4c2e97f5f5778226f
     "metadata": {},
     "output_type": "execute_result"
    }
   ],
   "source": [
    "dt.score(X_train, y_train) # Score on the train set"
   ]
  },
  {
   "cell_type": "code",
<<<<<<< HEAD
   "execution_count": 52,
=======
   "execution_count": 23,
>>>>>>> 79bafd7a3b3c6edaed7833b4c2e97f5f5778226f
   "metadata": {},
   "outputs": [
    {
     "data": {
      "text/plain": [
       "0.31767136668453344"
      ]
     },
<<<<<<< HEAD
     "execution_count": 52,
=======
     "execution_count": 23,
>>>>>>> 79bafd7a3b3c6edaed7833b4c2e97f5f5778226f
     "metadata": {},
     "output_type": "execute_result"
    }
   ],
   "source": [
    "dt.score(X_test, y_test) # Score on the test set"
   ]
  },
  {
   "cell_type": "markdown",
   "metadata": {},
   "source": [
    "- How do these scores compare to the previous scores? "
   ]
  },
  {
   "cell_type": "markdown",
   "metadata": {},
   "source": [
    "Let's try depth 10. "
   ]
  },
  {
   "cell_type": "code",
<<<<<<< HEAD
   "execution_count": 53,
=======
   "execution_count": 24,
>>>>>>> 79bafd7a3b3c6edaed7833b4c2e97f5f5778226f
   "metadata": {},
   "outputs": [
    {
     "data": {
      "text/html": [
<<<<<<< HEAD
       "<style>#sk-container-id-4 {\n",
=======
       "<style>#sk-container-id-2 {\n",
>>>>>>> 79bafd7a3b3c6edaed7833b4c2e97f5f5778226f
       "  /* Definition of color scheme common for light and dark mode */\n",
       "  --sklearn-color-text: black;\n",
       "  --sklearn-color-line: gray;\n",
       "  /* Definition of color scheme for unfitted estimators */\n",
       "  --sklearn-color-unfitted-level-0: #fff5e6;\n",
       "  --sklearn-color-unfitted-level-1: #f6e4d2;\n",
       "  --sklearn-color-unfitted-level-2: #ffe0b3;\n",
       "  --sklearn-color-unfitted-level-3: chocolate;\n",
       "  /* Definition of color scheme for fitted estimators */\n",
       "  --sklearn-color-fitted-level-0: #f0f8ff;\n",
       "  --sklearn-color-fitted-level-1: #d4ebff;\n",
       "  --sklearn-color-fitted-level-2: #b3dbfd;\n",
       "  --sklearn-color-fitted-level-3: cornflowerblue;\n",
       "\n",
       "  /* Specific color for light theme */\n",
       "  --sklearn-color-text-on-default-background: var(--sg-text-color, var(--theme-code-foreground, var(--jp-content-font-color1, black)));\n",
       "  --sklearn-color-background: var(--sg-background-color, var(--theme-background, var(--jp-layout-color0, white)));\n",
       "  --sklearn-color-border-box: var(--sg-text-color, var(--theme-code-foreground, var(--jp-content-font-color1, black)));\n",
       "  --sklearn-color-icon: #696969;\n",
       "\n",
       "  @media (prefers-color-scheme: dark) {\n",
       "    /* Redefinition of color scheme for dark theme */\n",
       "    --sklearn-color-text-on-default-background: var(--sg-text-color, var(--theme-code-foreground, var(--jp-content-font-color1, white)));\n",
       "    --sklearn-color-background: var(--sg-background-color, var(--theme-background, var(--jp-layout-color0, #111)));\n",
       "    --sklearn-color-border-box: var(--sg-text-color, var(--theme-code-foreground, var(--jp-content-font-color1, white)));\n",
       "    --sklearn-color-icon: #878787;\n",
       "  }\n",
       "}\n",
       "\n",
<<<<<<< HEAD
       "#sk-container-id-4 {\n",
       "  color: var(--sklearn-color-text);\n",
       "}\n",
       "\n",
       "#sk-container-id-4 pre {\n",
       "  padding: 0;\n",
       "}\n",
       "\n",
       "#sk-container-id-4 input.sk-hidden--visually {\n",
=======
       "#sk-container-id-2 {\n",
       "  color: var(--sklearn-color-text);\n",
       "}\n",
       "\n",
       "#sk-container-id-2 pre {\n",
       "  padding: 0;\n",
       "}\n",
       "\n",
       "#sk-container-id-2 input.sk-hidden--visually {\n",
>>>>>>> 79bafd7a3b3c6edaed7833b4c2e97f5f5778226f
       "  border: 0;\n",
       "  clip: rect(1px 1px 1px 1px);\n",
       "  clip: rect(1px, 1px, 1px, 1px);\n",
       "  height: 1px;\n",
       "  margin: -1px;\n",
       "  overflow: hidden;\n",
       "  padding: 0;\n",
       "  position: absolute;\n",
       "  width: 1px;\n",
       "}\n",
       "\n",
<<<<<<< HEAD
       "#sk-container-id-4 div.sk-dashed-wrapped {\n",
=======
       "#sk-container-id-2 div.sk-dashed-wrapped {\n",
>>>>>>> 79bafd7a3b3c6edaed7833b4c2e97f5f5778226f
       "  border: 1px dashed var(--sklearn-color-line);\n",
       "  margin: 0 0.4em 0.5em 0.4em;\n",
       "  box-sizing: border-box;\n",
       "  padding-bottom: 0.4em;\n",
       "  background-color: var(--sklearn-color-background);\n",
       "}\n",
       "\n",
<<<<<<< HEAD
       "#sk-container-id-4 div.sk-container {\n",
=======
       "#sk-container-id-2 div.sk-container {\n",
>>>>>>> 79bafd7a3b3c6edaed7833b4c2e97f5f5778226f
       "  /* jupyter's `normalize.less` sets `[hidden] { display: none; }`\n",
       "     but bootstrap.min.css set `[hidden] { display: none !important; }`\n",
       "     so we also need the `!important` here to be able to override the\n",
       "     default hidden behavior on the sphinx rendered scikit-learn.org.\n",
       "     See: https://github.com/scikit-learn/scikit-learn/issues/21755 */\n",
       "  display: inline-block !important;\n",
       "  position: relative;\n",
       "}\n",
       "\n",
<<<<<<< HEAD
       "#sk-container-id-4 div.sk-text-repr-fallback {\n",
=======
       "#sk-container-id-2 div.sk-text-repr-fallback {\n",
>>>>>>> 79bafd7a3b3c6edaed7833b4c2e97f5f5778226f
       "  display: none;\n",
       "}\n",
       "\n",
       "div.sk-parallel-item,\n",
       "div.sk-serial,\n",
       "div.sk-item {\n",
       "  /* draw centered vertical line to link estimators */\n",
       "  background-image: linear-gradient(var(--sklearn-color-text-on-default-background), var(--sklearn-color-text-on-default-background));\n",
       "  background-size: 2px 100%;\n",
       "  background-repeat: no-repeat;\n",
       "  background-position: center center;\n",
       "}\n",
       "\n",
       "/* Parallel-specific style estimator block */\n",
       "\n",
<<<<<<< HEAD
       "#sk-container-id-4 div.sk-parallel-item::after {\n",
=======
       "#sk-container-id-2 div.sk-parallel-item::after {\n",
>>>>>>> 79bafd7a3b3c6edaed7833b4c2e97f5f5778226f
       "  content: \"\";\n",
       "  width: 100%;\n",
       "  border-bottom: 2px solid var(--sklearn-color-text-on-default-background);\n",
       "  flex-grow: 1;\n",
       "}\n",
       "\n",
<<<<<<< HEAD
       "#sk-container-id-4 div.sk-parallel {\n",
=======
       "#sk-container-id-2 div.sk-parallel {\n",
>>>>>>> 79bafd7a3b3c6edaed7833b4c2e97f5f5778226f
       "  display: flex;\n",
       "  align-items: stretch;\n",
       "  justify-content: center;\n",
       "  background-color: var(--sklearn-color-background);\n",
       "  position: relative;\n",
       "}\n",
       "\n",
<<<<<<< HEAD
       "#sk-container-id-4 div.sk-parallel-item {\n",
=======
       "#sk-container-id-2 div.sk-parallel-item {\n",
>>>>>>> 79bafd7a3b3c6edaed7833b4c2e97f5f5778226f
       "  display: flex;\n",
       "  flex-direction: column;\n",
       "}\n",
       "\n",
<<<<<<< HEAD
       "#sk-container-id-4 div.sk-parallel-item:first-child::after {\n",
=======
       "#sk-container-id-2 div.sk-parallel-item:first-child::after {\n",
>>>>>>> 79bafd7a3b3c6edaed7833b4c2e97f5f5778226f
       "  align-self: flex-end;\n",
       "  width: 50%;\n",
       "}\n",
       "\n",
<<<<<<< HEAD
       "#sk-container-id-4 div.sk-parallel-item:last-child::after {\n",
=======
       "#sk-container-id-2 div.sk-parallel-item:last-child::after {\n",
>>>>>>> 79bafd7a3b3c6edaed7833b4c2e97f5f5778226f
       "  align-self: flex-start;\n",
       "  width: 50%;\n",
       "}\n",
       "\n",
<<<<<<< HEAD
       "#sk-container-id-4 div.sk-parallel-item:only-child::after {\n",
=======
       "#sk-container-id-2 div.sk-parallel-item:only-child::after {\n",
>>>>>>> 79bafd7a3b3c6edaed7833b4c2e97f5f5778226f
       "  width: 0;\n",
       "}\n",
       "\n",
       "/* Serial-specific style estimator block */\n",
       "\n",
<<<<<<< HEAD
       "#sk-container-id-4 div.sk-serial {\n",
=======
       "#sk-container-id-2 div.sk-serial {\n",
>>>>>>> 79bafd7a3b3c6edaed7833b4c2e97f5f5778226f
       "  display: flex;\n",
       "  flex-direction: column;\n",
       "  align-items: center;\n",
       "  background-color: var(--sklearn-color-background);\n",
       "  padding-right: 1em;\n",
       "  padding-left: 1em;\n",
       "}\n",
       "\n",
       "\n",
       "/* Toggleable style: style used for estimator/Pipeline/ColumnTransformer box that is\n",
       "clickable and can be expanded/collapsed.\n",
       "- Pipeline and ColumnTransformer use this feature and define the default style\n",
       "- Estimators will overwrite some part of the style using the `sk-estimator` class\n",
       "*/\n",
       "\n",
       "/* Pipeline and ColumnTransformer style (default) */\n",
       "\n",
<<<<<<< HEAD
       "#sk-container-id-4 div.sk-toggleable {\n",
=======
       "#sk-container-id-2 div.sk-toggleable {\n",
>>>>>>> 79bafd7a3b3c6edaed7833b4c2e97f5f5778226f
       "  /* Default theme specific background. It is overwritten whether we have a\n",
       "  specific estimator or a Pipeline/ColumnTransformer */\n",
       "  background-color: var(--sklearn-color-background);\n",
       "}\n",
       "\n",
       "/* Toggleable label */\n",
<<<<<<< HEAD
       "#sk-container-id-4 label.sk-toggleable__label {\n",
=======
       "#sk-container-id-2 label.sk-toggleable__label {\n",
>>>>>>> 79bafd7a3b3c6edaed7833b4c2e97f5f5778226f
       "  cursor: pointer;\n",
       "  display: block;\n",
       "  width: 100%;\n",
       "  margin-bottom: 0;\n",
       "  padding: 0.5em;\n",
       "  box-sizing: border-box;\n",
       "  text-align: center;\n",
       "}\n",
       "\n",
<<<<<<< HEAD
       "#sk-container-id-4 label.sk-toggleable__label-arrow:before {\n",
=======
       "#sk-container-id-2 label.sk-toggleable__label-arrow:before {\n",
>>>>>>> 79bafd7a3b3c6edaed7833b4c2e97f5f5778226f
       "  /* Arrow on the left of the label */\n",
       "  content: \"▸\";\n",
       "  float: left;\n",
       "  margin-right: 0.25em;\n",
       "  color: var(--sklearn-color-icon);\n",
       "}\n",
       "\n",
<<<<<<< HEAD
       "#sk-container-id-4 label.sk-toggleable__label-arrow:hover:before {\n",
=======
       "#sk-container-id-2 label.sk-toggleable__label-arrow:hover:before {\n",
>>>>>>> 79bafd7a3b3c6edaed7833b4c2e97f5f5778226f
       "  color: var(--sklearn-color-text);\n",
       "}\n",
       "\n",
       "/* Toggleable content - dropdown */\n",
       "\n",
<<<<<<< HEAD
       "#sk-container-id-4 div.sk-toggleable__content {\n",
=======
       "#sk-container-id-2 div.sk-toggleable__content {\n",
>>>>>>> 79bafd7a3b3c6edaed7833b4c2e97f5f5778226f
       "  max-height: 0;\n",
       "  max-width: 0;\n",
       "  overflow: hidden;\n",
       "  text-align: left;\n",
       "  /* unfitted */\n",
       "  background-color: var(--sklearn-color-unfitted-level-0);\n",
       "}\n",
       "\n",
<<<<<<< HEAD
       "#sk-container-id-4 div.sk-toggleable__content.fitted {\n",
=======
       "#sk-container-id-2 div.sk-toggleable__content.fitted {\n",
>>>>>>> 79bafd7a3b3c6edaed7833b4c2e97f5f5778226f
       "  /* fitted */\n",
       "  background-color: var(--sklearn-color-fitted-level-0);\n",
       "}\n",
       "\n",
<<<<<<< HEAD
       "#sk-container-id-4 div.sk-toggleable__content pre {\n",
=======
       "#sk-container-id-2 div.sk-toggleable__content pre {\n",
>>>>>>> 79bafd7a3b3c6edaed7833b4c2e97f5f5778226f
       "  margin: 0.2em;\n",
       "  border-radius: 0.25em;\n",
       "  color: var(--sklearn-color-text);\n",
       "  /* unfitted */\n",
       "  background-color: var(--sklearn-color-unfitted-level-0);\n",
       "}\n",
       "\n",
<<<<<<< HEAD
       "#sk-container-id-4 div.sk-toggleable__content.fitted pre {\n",
=======
       "#sk-container-id-2 div.sk-toggleable__content.fitted pre {\n",
>>>>>>> 79bafd7a3b3c6edaed7833b4c2e97f5f5778226f
       "  /* unfitted */\n",
       "  background-color: var(--sklearn-color-fitted-level-0);\n",
       "}\n",
       "\n",
<<<<<<< HEAD
       "#sk-container-id-4 input.sk-toggleable__control:checked~div.sk-toggleable__content {\n",
=======
       "#sk-container-id-2 input.sk-toggleable__control:checked~div.sk-toggleable__content {\n",
>>>>>>> 79bafd7a3b3c6edaed7833b4c2e97f5f5778226f
       "  /* Expand drop-down */\n",
       "  max-height: 200px;\n",
       "  max-width: 100%;\n",
       "  overflow: auto;\n",
       "}\n",
       "\n",
<<<<<<< HEAD
       "#sk-container-id-4 input.sk-toggleable__control:checked~label.sk-toggleable__label-arrow:before {\n",
=======
       "#sk-container-id-2 input.sk-toggleable__control:checked~label.sk-toggleable__label-arrow:before {\n",
>>>>>>> 79bafd7a3b3c6edaed7833b4c2e97f5f5778226f
       "  content: \"▾\";\n",
       "}\n",
       "\n",
       "/* Pipeline/ColumnTransformer-specific style */\n",
       "\n",
<<<<<<< HEAD
       "#sk-container-id-4 div.sk-label input.sk-toggleable__control:checked~label.sk-toggleable__label {\n",
=======
       "#sk-container-id-2 div.sk-label input.sk-toggleable__control:checked~label.sk-toggleable__label {\n",
>>>>>>> 79bafd7a3b3c6edaed7833b4c2e97f5f5778226f
       "  color: var(--sklearn-color-text);\n",
       "  background-color: var(--sklearn-color-unfitted-level-2);\n",
       "}\n",
       "\n",
<<<<<<< HEAD
       "#sk-container-id-4 div.sk-label.fitted input.sk-toggleable__control:checked~label.sk-toggleable__label {\n",
=======
       "#sk-container-id-2 div.sk-label.fitted input.sk-toggleable__control:checked~label.sk-toggleable__label {\n",
>>>>>>> 79bafd7a3b3c6edaed7833b4c2e97f5f5778226f
       "  background-color: var(--sklearn-color-fitted-level-2);\n",
       "}\n",
       "\n",
       "/* Estimator-specific style */\n",
       "\n",
       "/* Colorize estimator box */\n",
<<<<<<< HEAD
       "#sk-container-id-4 div.sk-estimator input.sk-toggleable__control:checked~label.sk-toggleable__label {\n",
=======
       "#sk-container-id-2 div.sk-estimator input.sk-toggleable__control:checked~label.sk-toggleable__label {\n",
>>>>>>> 79bafd7a3b3c6edaed7833b4c2e97f5f5778226f
       "  /* unfitted */\n",
       "  background-color: var(--sklearn-color-unfitted-level-2);\n",
       "}\n",
       "\n",
<<<<<<< HEAD
       "#sk-container-id-4 div.sk-estimator.fitted input.sk-toggleable__control:checked~label.sk-toggleable__label {\n",
=======
       "#sk-container-id-2 div.sk-estimator.fitted input.sk-toggleable__control:checked~label.sk-toggleable__label {\n",
>>>>>>> 79bafd7a3b3c6edaed7833b4c2e97f5f5778226f
       "  /* fitted */\n",
       "  background-color: var(--sklearn-color-fitted-level-2);\n",
       "}\n",
       "\n",
<<<<<<< HEAD
       "#sk-container-id-4 div.sk-label label.sk-toggleable__label,\n",
       "#sk-container-id-4 div.sk-label label {\n",
=======
       "#sk-container-id-2 div.sk-label label.sk-toggleable__label,\n",
       "#sk-container-id-2 div.sk-label label {\n",
>>>>>>> 79bafd7a3b3c6edaed7833b4c2e97f5f5778226f
       "  /* The background is the default theme color */\n",
       "  color: var(--sklearn-color-text-on-default-background);\n",
       "}\n",
       "\n",
       "/* On hover, darken the color of the background */\n",
<<<<<<< HEAD
       "#sk-container-id-4 div.sk-label:hover label.sk-toggleable__label {\n",
=======
       "#sk-container-id-2 div.sk-label:hover label.sk-toggleable__label {\n",
>>>>>>> 79bafd7a3b3c6edaed7833b4c2e97f5f5778226f
       "  color: var(--sklearn-color-text);\n",
       "  background-color: var(--sklearn-color-unfitted-level-2);\n",
       "}\n",
       "\n",
       "/* Label box, darken color on hover, fitted */\n",
<<<<<<< HEAD
       "#sk-container-id-4 div.sk-label.fitted:hover label.sk-toggleable__label.fitted {\n",
=======
       "#sk-container-id-2 div.sk-label.fitted:hover label.sk-toggleable__label.fitted {\n",
>>>>>>> 79bafd7a3b3c6edaed7833b4c2e97f5f5778226f
       "  color: var(--sklearn-color-text);\n",
       "  background-color: var(--sklearn-color-fitted-level-2);\n",
       "}\n",
       "\n",
       "/* Estimator label */\n",
       "\n",
<<<<<<< HEAD
       "#sk-container-id-4 div.sk-label label {\n",
=======
       "#sk-container-id-2 div.sk-label label {\n",
>>>>>>> 79bafd7a3b3c6edaed7833b4c2e97f5f5778226f
       "  font-family: monospace;\n",
       "  font-weight: bold;\n",
       "  display: inline-block;\n",
       "  line-height: 1.2em;\n",
       "}\n",
       "\n",
<<<<<<< HEAD
       "#sk-container-id-4 div.sk-label-container {\n",
=======
       "#sk-container-id-2 div.sk-label-container {\n",
>>>>>>> 79bafd7a3b3c6edaed7833b4c2e97f5f5778226f
       "  text-align: center;\n",
       "}\n",
       "\n",
       "/* Estimator-specific */\n",
<<<<<<< HEAD
       "#sk-container-id-4 div.sk-estimator {\n",
=======
       "#sk-container-id-2 div.sk-estimator {\n",
>>>>>>> 79bafd7a3b3c6edaed7833b4c2e97f5f5778226f
       "  font-family: monospace;\n",
       "  border: 1px dotted var(--sklearn-color-border-box);\n",
       "  border-radius: 0.25em;\n",
       "  box-sizing: border-box;\n",
       "  margin-bottom: 0.5em;\n",
       "  /* unfitted */\n",
       "  background-color: var(--sklearn-color-unfitted-level-0);\n",
       "}\n",
       "\n",
<<<<<<< HEAD
       "#sk-container-id-4 div.sk-estimator.fitted {\n",
=======
       "#sk-container-id-2 div.sk-estimator.fitted {\n",
>>>>>>> 79bafd7a3b3c6edaed7833b4c2e97f5f5778226f
       "  /* fitted */\n",
       "  background-color: var(--sklearn-color-fitted-level-0);\n",
       "}\n",
       "\n",
       "/* on hover */\n",
<<<<<<< HEAD
       "#sk-container-id-4 div.sk-estimator:hover {\n",
=======
       "#sk-container-id-2 div.sk-estimator:hover {\n",
>>>>>>> 79bafd7a3b3c6edaed7833b4c2e97f5f5778226f
       "  /* unfitted */\n",
       "  background-color: var(--sklearn-color-unfitted-level-2);\n",
       "}\n",
       "\n",
<<<<<<< HEAD
       "#sk-container-id-4 div.sk-estimator.fitted:hover {\n",
=======
       "#sk-container-id-2 div.sk-estimator.fitted:hover {\n",
>>>>>>> 79bafd7a3b3c6edaed7833b4c2e97f5f5778226f
       "  /* fitted */\n",
       "  background-color: var(--sklearn-color-fitted-level-2);\n",
       "}\n",
       "\n",
       "/* Specification for estimator info (e.g. \"i\" and \"?\") */\n",
       "\n",
       "/* Common style for \"i\" and \"?\" */\n",
       "\n",
       ".sk-estimator-doc-link,\n",
       "a:link.sk-estimator-doc-link,\n",
       "a:visited.sk-estimator-doc-link {\n",
       "  float: right;\n",
       "  font-size: smaller;\n",
       "  line-height: 1em;\n",
       "  font-family: monospace;\n",
       "  background-color: var(--sklearn-color-background);\n",
       "  border-radius: 1em;\n",
       "  height: 1em;\n",
       "  width: 1em;\n",
       "  text-decoration: none !important;\n",
       "  margin-left: 1ex;\n",
       "  /* unfitted */\n",
       "  border: var(--sklearn-color-unfitted-level-1) 1pt solid;\n",
       "  color: var(--sklearn-color-unfitted-level-1);\n",
       "}\n",
       "\n",
       ".sk-estimator-doc-link.fitted,\n",
       "a:link.sk-estimator-doc-link.fitted,\n",
       "a:visited.sk-estimator-doc-link.fitted {\n",
       "  /* fitted */\n",
       "  border: var(--sklearn-color-fitted-level-1) 1pt solid;\n",
       "  color: var(--sklearn-color-fitted-level-1);\n",
       "}\n",
       "\n",
       "/* On hover */\n",
       "div.sk-estimator:hover .sk-estimator-doc-link:hover,\n",
       ".sk-estimator-doc-link:hover,\n",
       "div.sk-label-container:hover .sk-estimator-doc-link:hover,\n",
       ".sk-estimator-doc-link:hover {\n",
       "  /* unfitted */\n",
       "  background-color: var(--sklearn-color-unfitted-level-3);\n",
       "  color: var(--sklearn-color-background);\n",
       "  text-decoration: none;\n",
       "}\n",
       "\n",
       "div.sk-estimator.fitted:hover .sk-estimator-doc-link.fitted:hover,\n",
       ".sk-estimator-doc-link.fitted:hover,\n",
       "div.sk-label-container:hover .sk-estimator-doc-link.fitted:hover,\n",
       ".sk-estimator-doc-link.fitted:hover {\n",
       "  /* fitted */\n",
       "  background-color: var(--sklearn-color-fitted-level-3);\n",
       "  color: var(--sklearn-color-background);\n",
       "  text-decoration: none;\n",
       "}\n",
       "\n",
       "/* Span, style for the box shown on hovering the info icon */\n",
       ".sk-estimator-doc-link span {\n",
       "  display: none;\n",
       "  z-index: 9999;\n",
       "  position: relative;\n",
       "  font-weight: normal;\n",
       "  right: .2ex;\n",
       "  padding: .5ex;\n",
       "  margin: .5ex;\n",
       "  width: min-content;\n",
       "  min-width: 20ex;\n",
       "  max-width: 50ex;\n",
       "  color: var(--sklearn-color-text);\n",
       "  box-shadow: 2pt 2pt 4pt #999;\n",
       "  /* unfitted */\n",
       "  background: var(--sklearn-color-unfitted-level-0);\n",
       "  border: .5pt solid var(--sklearn-color-unfitted-level-3);\n",
       "}\n",
       "\n",
       ".sk-estimator-doc-link.fitted span {\n",
       "  /* fitted */\n",
       "  background: var(--sklearn-color-fitted-level-0);\n",
       "  border: var(--sklearn-color-fitted-level-3);\n",
       "}\n",
       "\n",
       ".sk-estimator-doc-link:hover span {\n",
       "  display: block;\n",
       "}\n",
       "\n",
       "/* \"?\"-specific style due to the `<a>` HTML tag */\n",
       "\n",
<<<<<<< HEAD
       "#sk-container-id-4 a.estimator_doc_link {\n",
=======
       "#sk-container-id-2 a.estimator_doc_link {\n",
>>>>>>> 79bafd7a3b3c6edaed7833b4c2e97f5f5778226f
       "  float: right;\n",
       "  font-size: 1rem;\n",
       "  line-height: 1em;\n",
       "  font-family: monospace;\n",
       "  background-color: var(--sklearn-color-background);\n",
       "  border-radius: 1rem;\n",
       "  height: 1rem;\n",
       "  width: 1rem;\n",
       "  text-decoration: none;\n",
       "  /* unfitted */\n",
       "  color: var(--sklearn-color-unfitted-level-1);\n",
       "  border: var(--sklearn-color-unfitted-level-1) 1pt solid;\n",
       "}\n",
       "\n",
<<<<<<< HEAD
       "#sk-container-id-4 a.estimator_doc_link.fitted {\n",
=======
       "#sk-container-id-2 a.estimator_doc_link.fitted {\n",
>>>>>>> 79bafd7a3b3c6edaed7833b4c2e97f5f5778226f
       "  /* fitted */\n",
       "  border: var(--sklearn-color-fitted-level-1) 1pt solid;\n",
       "  color: var(--sklearn-color-fitted-level-1);\n",
       "}\n",
       "\n",
       "/* On hover */\n",
<<<<<<< HEAD
       "#sk-container-id-4 a.estimator_doc_link:hover {\n",
=======
       "#sk-container-id-2 a.estimator_doc_link:hover {\n",
>>>>>>> 79bafd7a3b3c6edaed7833b4c2e97f5f5778226f
       "  /* unfitted */\n",
       "  background-color: var(--sklearn-color-unfitted-level-3);\n",
       "  color: var(--sklearn-color-background);\n",
       "  text-decoration: none;\n",
       "}\n",
       "\n",
<<<<<<< HEAD
       "#sk-container-id-4 a.estimator_doc_link.fitted:hover {\n",
       "  /* fitted */\n",
       "  background-color: var(--sklearn-color-fitted-level-3);\n",
       "}\n",
       "</style><div id=\"sk-container-id-4\" class=\"sk-top-container\"><div class=\"sk-text-repr-fallback\"><pre>DecisionTreeRegressor(max_depth=10, random_state=123)</pre><b>In a Jupyter environment, please rerun this cell to show the HTML representation or trust the notebook. <br />On GitHub, the HTML representation is unable to render, please try loading this page with nbviewer.org.</b></div><div class=\"sk-container\" hidden><div class=\"sk-item\"><div class=\"sk-estimator fitted sk-toggleable\"><input class=\"sk-toggleable__control sk-hidden--visually\" id=\"sk-estimator-id-4\" type=\"checkbox\" checked><label for=\"sk-estimator-id-4\" class=\"sk-toggleable__label fitted sk-toggleable__label-arrow fitted\">&nbsp;&nbsp;DecisionTreeRegressor<a class=\"sk-estimator-doc-link fitted\" rel=\"noreferrer\" target=\"_blank\" href=\"https://scikit-learn.org/1.5/modules/generated/sklearn.tree.DecisionTreeRegressor.html\">?<span>Documentation for DecisionTreeRegressor</span></a><span class=\"sk-estimator-doc-link fitted\">i<span>Fitted</span></span></label><div class=\"sk-toggleable__content fitted\"><pre>DecisionTreeRegressor(max_depth=10, random_state=123)</pre></div> </div></div></div></div>"
=======
       "#sk-container-id-2 a.estimator_doc_link.fitted:hover {\n",
       "  /* fitted */\n",
       "  background-color: var(--sklearn-color-fitted-level-3);\n",
       "}\n",
       "</style><div id=\"sk-container-id-2\" class=\"sk-top-container\"><div class=\"sk-text-repr-fallback\"><pre>DecisionTreeRegressor(max_depth=10, random_state=123)</pre><b>In a Jupyter environment, please rerun this cell to show the HTML representation or trust the notebook. <br />On GitHub, the HTML representation is unable to render, please try loading this page with nbviewer.org.</b></div><div class=\"sk-container\" hidden><div class=\"sk-item\"><div class=\"sk-estimator fitted sk-toggleable\"><input class=\"sk-toggleable__control sk-hidden--visually\" id=\"sk-estimator-id-2\" type=\"checkbox\" checked><label for=\"sk-estimator-id-2\" class=\"sk-toggleable__label fitted sk-toggleable__label-arrow fitted\">&nbsp;&nbsp;DecisionTreeRegressor<a class=\"sk-estimator-doc-link fitted\" rel=\"noreferrer\" target=\"_blank\" href=\"https://scikit-learn.org/1.5/modules/generated/sklearn.tree.DecisionTreeRegressor.html\">?<span>Documentation for DecisionTreeRegressor</span></a><span class=\"sk-estimator-doc-link fitted\">i<span>Fitted</span></span></label><div class=\"sk-toggleable__content fitted\"><pre>DecisionTreeRegressor(max_depth=10, random_state=123)</pre></div> </div></div></div></div>"
>>>>>>> 79bafd7a3b3c6edaed7833b4c2e97f5f5778226f
      ],
      "text/plain": [
       "DecisionTreeRegressor(max_depth=10, random_state=123)"
      ]
     },
<<<<<<< HEAD
     "execution_count": 53,
=======
     "execution_count": 24,
>>>>>>> 79bafd7a3b3c6edaed7833b4c2e97f5f5778226f
     "metadata": {},
     "output_type": "execute_result"
    }
   ],
   "source": [
    "dt = DecisionTreeRegressor(max_depth=10, random_state=123) # max_depth= 10 \n",
    "dt.fit(X_train, y_train)"
   ]
  },
  {
   "cell_type": "code",
<<<<<<< HEAD
   "execution_count": 54,
=======
   "execution_count": 25,
>>>>>>> 79bafd7a3b3c6edaed7833b4c2e97f5f5778226f
   "metadata": {},
   "outputs": [
    {
     "data": {
      "text/plain": [
       "0.9108334653214172"
      ]
     },
<<<<<<< HEAD
     "execution_count": 54,
=======
     "execution_count": 25,
>>>>>>> 79bafd7a3b3c6edaed7833b4c2e97f5f5778226f
     "metadata": {},
     "output_type": "execute_result"
    }
   ],
   "source": [
    "dt.score(X_train, y_train) # Score on the train set"
   ]
  },
  {
   "cell_type": "code",
<<<<<<< HEAD
   "execution_count": 55,
=======
   "execution_count": 26,
>>>>>>> 79bafd7a3b3c6edaed7833b4c2e97f5f5778226f
   "metadata": {},
   "outputs": [
    {
     "data": {
      "text/plain": [
       "0.7728396574320712"
      ]
     },
<<<<<<< HEAD
     "execution_count": 55,
=======
     "execution_count": 26,
>>>>>>> 79bafd7a3b3c6edaed7833b4c2e97f5f5778226f
     "metadata": {},
     "output_type": "execute_result"
    }
   ],
   "source": [
    "dt.score(X_test, y_test) # Score on the test set"
   ]
  },
  {
   "cell_type": "markdown",
   "metadata": {},
   "source": [
    "Any improvements? Which depth should we pick? "
   ]
  },
  {
   "cell_type": "markdown",
   "metadata": {},
   "source": [
    "<br><br>"
   ]
  },
  {
   "cell_type": "markdown",
   "metadata": {},
   "source": [
    "## Single validation set"
   ]
  },
  {
   "cell_type": "markdown",
   "metadata": {},
   "source": [
    "We are using the test data again and again. How about creating a validation set to pick the right depth and assessing the final model on the test set?   "
   ]
  },
  {
   "cell_type": "code",
<<<<<<< HEAD
   "execution_count": 58,
=======
   "execution_count": 27,
>>>>>>> 79bafd7a3b3c6edaed7833b4c2e97f5f5778226f
   "metadata": {},
   "outputs": [],
   "source": [
    "# Create a validation set \n",
    "X_tr, X_valid, y_tr, y_valid = train_test_split(X_train, y_train, test_size=0.2, random_state=123)"
   ]
  },
  {
   "cell_type": "code",
<<<<<<< HEAD
   "execution_count": 59,
=======
   "execution_count": 28,
>>>>>>> 79bafd7a3b3c6edaed7833b4c2e97f5f5778226f
   "metadata": {},
   "outputs": [
    {
     "data": {
      "text/html": [
       "<div>\n",
       "<style scoped>\n",
       "    .dataframe tbody tr th:only-of-type {\n",
       "        vertical-align: middle;\n",
       "    }\n",
       "\n",
       "    .dataframe tbody tr th {\n",
       "        vertical-align: top;\n",
       "    }\n",
       "\n",
       "    .dataframe thead th {\n",
       "        text-align: right;\n",
       "    }\n",
       "</style>\n",
       "<table border=\"1\" class=\"dataframe\">\n",
       "  <thead>\n",
       "    <tr style=\"text-align: right;\">\n",
       "      <th></th>\n",
       "      <th>train_score</th>\n",
       "      <th>valid_score</th>\n",
       "    </tr>\n",
       "  </thead>\n",
       "  <tbody>\n",
       "    <tr>\n",
       "      <th>1</th>\n",
       "      <td>0.319559</td>\n",
       "      <td>0.326616</td>\n",
       "    </tr>\n",
       "    <tr>\n",
       "      <th>3</th>\n",
       "      <td>0.603739</td>\n",
       "      <td>0.555180</td>\n",
       "    </tr>\n",
       "    <tr>\n",
       "      <th>5</th>\n",
       "      <td>0.754938</td>\n",
       "      <td>0.677567</td>\n",
       "    </tr>\n",
       "    <tr>\n",
       "      <th>7</th>\n",
       "      <td>0.833913</td>\n",
       "      <td>0.737285</td>\n",
       "    </tr>\n",
       "    <tr>\n",
       "      <th>9</th>\n",
       "      <td>0.890456</td>\n",
       "      <td>0.763480</td>\n",
       "    </tr>\n",
       "    <tr>\n",
       "      <th>11</th>\n",
       "      <td>0.931896</td>\n",
       "      <td>0.790521</td>\n",
       "    </tr>\n",
       "    <tr>\n",
       "      <th>13</th>\n",
       "      <td>0.963024</td>\n",
       "      <td>0.769030</td>\n",
       "    </tr>\n",
       "    <tr>\n",
       "      <th>15</th>\n",
       "      <td>0.981643</td>\n",
       "      <td>0.752728</td>\n",
       "    </tr>\n",
       "    <tr>\n",
       "      <th>17</th>\n",
       "      <td>0.991810</td>\n",
       "      <td>0.735637</td>\n",
       "    </tr>\n",
       "    <tr>\n",
       "      <th>19</th>\n",
       "      <td>0.996424</td>\n",
       "      <td>0.745925</td>\n",
       "    </tr>\n",
       "    <tr>\n",
       "      <th>21</th>\n",
       "      <td>0.998370</td>\n",
       "      <td>0.734048</td>\n",
       "    </tr>\n",
       "    <tr>\n",
       "      <th>23</th>\n",
       "      <td>0.999213</td>\n",
       "      <td>0.741060</td>\n",
       "    </tr>\n",
       "    <tr>\n",
       "      <th>25</th>\n",
       "      <td>0.999480</td>\n",
       "      <td>0.722873</td>\n",
       "    </tr>\n",
       "    <tr>\n",
       "      <th>27</th>\n",
       "      <td>0.999544</td>\n",
       "      <td>0.723951</td>\n",
       "    </tr>\n",
       "    <tr>\n",
       "      <th>29</th>\n",
       "      <td>0.999558</td>\n",
       "      <td>0.734986</td>\n",
       "    </tr>\n",
       "    <tr>\n",
       "      <th>31</th>\n",
       "      <td>0.999562</td>\n",
       "      <td>0.724068</td>\n",
       "    </tr>\n",
       "    <tr>\n",
       "      <th>33</th>\n",
       "      <td>0.999567</td>\n",
       "      <td>0.724410</td>\n",
       "    </tr>\n",
       "  </tbody>\n",
       "</table>\n",
       "</div>"
      ],
      "text/plain": [
       "    train_score  valid_score\n",
       "1      0.319559     0.326616\n",
       "3      0.603739     0.555180\n",
       "5      0.754938     0.677567\n",
       "7      0.833913     0.737285\n",
       "9      0.890456     0.763480\n",
       "11     0.931896     0.790521\n",
       "13     0.963024     0.769030\n",
       "15     0.981643     0.752728\n",
       "17     0.991810     0.735637\n",
       "19     0.996424     0.745925\n",
       "21     0.998370     0.734048\n",
       "23     0.999213     0.741060\n",
       "25     0.999480     0.722873\n",
       "27     0.999544     0.723951\n",
       "29     0.999558     0.734986\n",
       "31     0.999562     0.724068\n",
       "33     0.999567     0.724410"
      ]
     },
<<<<<<< HEAD
     "execution_count": 59,
=======
     "execution_count": 28,
>>>>>>> 79bafd7a3b3c6edaed7833b4c2e97f5f5778226f
     "metadata": {},
     "output_type": "execute_result"
    }
   ],
   "source": [
    "tr_scores = []\n",
    "valid_scores = []\n",
    "depths = np.arange(1, 35, 2)\n",
    "\n",
    "for depth in depths:  \n",
    "    # Create and fit a decision tree model for the given depth  \n",
    "    dt = DecisionTreeRegressor(max_depth=depth, random_state=123)\n",
<<<<<<< HEAD
    "    \n",
    "    dt.fit(X_tr, y_tr)\n",
    "    # Calculate and append r2 scores on the training and validation sets\n",
    "    tr_scores.append(dt.score(X_tr, y_tr))\n",
=======
    "\n",
    "    dt.fit(X_tr, y_tr)\n",
    "    # Calculate and append r2 scores on the training and validation sets\n",
    "    tr_scores.append(dt.score(X_tr, y_tr))    \n",
>>>>>>> 79bafd7a3b3c6edaed7833b4c2e97f5f5778226f
    "    valid_scores.append(dt.score(X_valid, y_valid))\n",
    "    \n",
    "results_single_valid_df = pd.DataFrame({\"train_score\": tr_scores, \n",
    "                           \"valid_score\": valid_scores},index = depths)\n",
    "results_single_valid_df"
   ]
  },
  {
   "cell_type": "code",
<<<<<<< HEAD
   "execution_count": 60,
=======
   "execution_count": 29,
>>>>>>> 79bafd7a3b3c6edaed7833b4c2e97f5f5778226f
   "metadata": {},
   "outputs": [
    {
     "data": {
<<<<<<< HEAD
      "text/plain": [
       "<Axes: ylabel='r2 scores'>"
      ]
     },
     "execution_count": 60,
     "metadata": {},
     "output_type": "execute_result"
    },
    {
     "data": {
      "image/png": "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",
=======
      "image/png": "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",
>>>>>>> 79bafd7a3b3c6edaed7833b4c2e97f5f5778226f
      "text/plain": [
       "<Figure size 640x480 with 1 Axes>"
      ]
     },
     "metadata": {},
     "output_type": "display_data"
    }
   ],
   "source": [
    "results_single_valid_df[['train_score', 'valid_score']].plot(ylabel='r2 scores')"
   ]
  },
  {
   "cell_type": "markdown",
   "metadata": {},
   "source": [
    "What depth gives the \"best\" validation score? "
   ]
  },
  {
   "cell_type": "code",
<<<<<<< HEAD
   "execution_count": 61,
=======
   "execution_count": 30,
>>>>>>> 79bafd7a3b3c6edaed7833b4c2e97f5f5778226f
   "metadata": {},
   "outputs": [
    {
     "data": {
      "text/plain": [
       "11"
      ]
     },
<<<<<<< HEAD
     "execution_count": 61,
=======
     "execution_count": 30,
>>>>>>> 79bafd7a3b3c6edaed7833b4c2e97f5f5778226f
     "metadata": {},
     "output_type": "execute_result"
    }
   ],
   "source": [
    "# What depth gives the \"best\" validation score?\n",
    "best_depth = results_single_valid_df['valid_score'].idxmax() \n",
    "best_depth"
   ]
  },
  {
   "cell_type": "markdown",
   "metadata": {},
   "source": [
    "## Cross-validation"
   ]
  },
  {
   "cell_type": "code",
<<<<<<< HEAD
   "execution_count": 66,
=======
   "execution_count": 31,
>>>>>>> 79bafd7a3b3c6edaed7833b4c2e97f5f5778226f
   "metadata": {},
   "outputs": [],
   "source": [
    "depths = np.arange(1, 35, 2)\n",
    "\n",
    "cv_train_scores = []\n",
    "cv_valid_scores = []\n",
    "for depth in depths: \n",
    "    # Create and fit a decision tree model for the given depth   \n",
    "    dt = DecisionTreeRegressor(max_depth = depth, random_state=123)\n",
    "\n",
    "    # Carry out cross-validation\n",
    "    results = cross_validate(dt, X_train, y_train, cv=5, return_train_score=True)\n",
    "    cv_train_scores.append(results['train_score'].mean())\n",
<<<<<<< HEAD
    "    cv_valid_scores.append(results['test_score'].mean())"
=======
    "    cv_valid_scores.append(results['test_score'].mean())    "
>>>>>>> 79bafd7a3b3c6edaed7833b4c2e97f5f5778226f
   ]
  },
  {
   "cell_type": "code",
<<<<<<< HEAD
   "execution_count": 67,
=======
   "execution_count": 32,
>>>>>>> 79bafd7a3b3c6edaed7833b4c2e97f5f5778226f
   "metadata": {},
   "outputs": [
    {
     "data": {
      "text/html": [
       "<div>\n",
       "<style scoped>\n",
       "    .dataframe tbody tr th:only-of-type {\n",
       "        vertical-align: middle;\n",
       "    }\n",
       "\n",
       "    .dataframe tbody tr th {\n",
       "        vertical-align: top;\n",
       "    }\n",
       "\n",
       "    .dataframe thead th {\n",
       "        text-align: right;\n",
       "    }\n",
       "</style>\n",
       "<table border=\"1\" class=\"dataframe\">\n",
       "  <thead>\n",
       "    <tr style=\"text-align: right;\">\n",
       "      <th></th>\n",
       "      <th>train_score</th>\n",
       "      <th>valid_score</th>\n",
       "    </tr>\n",
       "  </thead>\n",
       "  <tbody>\n",
       "    <tr>\n",
       "      <th>1</th>\n",
       "      <td>0.321050</td>\n",
       "      <td>0.322465</td>\n",
       "    </tr>\n",
       "    <tr>\n",
       "      <th>3</th>\n",
       "      <td>0.603243</td>\n",
       "      <td>0.559284</td>\n",
       "    </tr>\n",
       "    <tr>\n",
       "      <th>5</th>\n",
       "      <td>0.752169</td>\n",
       "      <td>0.688484</td>\n",
       "    </tr>\n",
       "    <tr>\n",
       "      <th>7</th>\n",
       "      <td>0.835876</td>\n",
       "      <td>0.758259</td>\n",
       "    </tr>\n",
       "    <tr>\n",
       "      <th>9</th>\n",
       "      <td>0.894960</td>\n",
       "      <td>0.768184</td>\n",
       "    </tr>\n",
       "    <tr>\n",
       "      <th>11</th>\n",
       "      <td>0.938201</td>\n",
       "      <td>0.772185</td>\n",
       "    </tr>\n",
       "    <tr>\n",
       "      <th>13</th>\n",
       "      <td>0.966812</td>\n",
       "      <td>0.760966</td>\n",
       "    </tr>\n",
       "    <tr>\n",
       "      <th>15</th>\n",
       "      <td>0.983340</td>\n",
       "      <td>0.754620</td>\n",
       "    </tr>\n",
       "    <tr>\n",
       "      <th>17</th>\n",
       "      <td>0.992220</td>\n",
       "      <td>0.730025</td>\n",
       "    </tr>\n",
       "    <tr>\n",
       "      <th>19</th>\n",
       "      <td>0.996487</td>\n",
       "      <td>0.722803</td>\n",
       "    </tr>\n",
       "    <tr>\n",
       "      <th>21</th>\n",
       "      <td>0.998440</td>\n",
       "      <td>0.726659</td>\n",
       "    </tr>\n",
       "    <tr>\n",
       "      <th>23</th>\n",
       "      <td>0.999178</td>\n",
       "      <td>0.730704</td>\n",
       "    </tr>\n",
       "    <tr>\n",
       "      <th>25</th>\n",
       "      <td>0.999438</td>\n",
       "      <td>0.711356</td>\n",
       "    </tr>\n",
       "    <tr>\n",
       "      <th>27</th>\n",
       "      <td>0.999518</td>\n",
       "      <td>0.721917</td>\n",
       "    </tr>\n",
       "    <tr>\n",
       "      <th>29</th>\n",
       "      <td>0.999539</td>\n",
       "      <td>0.729374</td>\n",
       "    </tr>\n",
       "    <tr>\n",
       "      <th>31</th>\n",
       "      <td>0.999545</td>\n",
       "      <td>0.740319</td>\n",
       "    </tr>\n",
       "    <tr>\n",
       "      <th>33</th>\n",
       "      <td>0.999546</td>\n",
       "      <td>0.706489</td>\n",
       "    </tr>\n",
       "  </tbody>\n",
       "</table>\n",
       "</div>"
      ],
      "text/plain": [
       "    train_score  valid_score\n",
       "1      0.321050     0.322465\n",
       "3      0.603243     0.559284\n",
       "5      0.752169     0.688484\n",
       "7      0.835876     0.758259\n",
       "9      0.894960     0.768184\n",
       "11     0.938201     0.772185\n",
       "13     0.966812     0.760966\n",
       "15     0.983340     0.754620\n",
       "17     0.992220     0.730025\n",
       "19     0.996487     0.722803\n",
       "21     0.998440     0.726659\n",
       "23     0.999178     0.730704\n",
       "25     0.999438     0.711356\n",
       "27     0.999518     0.721917\n",
       "29     0.999539     0.729374\n",
       "31     0.999545     0.740319\n",
       "33     0.999546     0.706489"
      ]
     },
<<<<<<< HEAD
     "execution_count": 67,
=======
     "execution_count": 32,
>>>>>>> 79bafd7a3b3c6edaed7833b4c2e97f5f5778226f
     "metadata": {},
     "output_type": "execute_result"
    }
   ],
   "source": [
    "results_df = pd.DataFrame({\"train_score\": cv_train_scores, \n",
    "                           \"valid_score\": cv_valid_scores\n",
    "                           },\n",
    "                           index=depths\n",
    "                            )\n",
    "results_df"
   ]
  },
  {
   "cell_type": "code",
<<<<<<< HEAD
   "execution_count": 68,
=======
   "execution_count": 33,
>>>>>>> 79bafd7a3b3c6edaed7833b4c2e97f5f5778226f
   "metadata": {},
   "outputs": [
    {
     "data": {
<<<<<<< HEAD
      "text/plain": [
       "<Axes: title={'center': 'Housing price prediction depth vs. r2 score'}, ylabel='r2 score'>"
      ]
     },
     "execution_count": 68,
     "metadata": {},
     "output_type": "execute_result"
    },
    {
     "data": {
      "image/png": "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",
=======
      "image/png": "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",
>>>>>>> 79bafd7a3b3c6edaed7833b4c2e97f5f5778226f
      "text/plain": [
       "<Figure size 640x480 with 1 Axes>"
      ]
     },
     "metadata": {},
     "output_type": "display_data"
    }
   ],
   "source": [
    "results_df[['train_score', 'valid_score']].plot(ylabel='r2 score', title='Housing price prediction depth vs. r2 score')"
   ]
  },
  {
   "cell_type": "markdown",
   "metadata": {},
   "source": [
    "What's the \"best\" depth with cross-validation? "
   ]
  },
  {
   "cell_type": "code",
<<<<<<< HEAD
   "execution_count": 69,
=======
   "execution_count": 34,
>>>>>>> 79bafd7a3b3c6edaed7833b4c2e97f5f5778226f
   "metadata": {},
   "outputs": [
    {
     "data": {
      "text/plain": [
       "11"
      ]
     },
<<<<<<< HEAD
     "execution_count": 69,
=======
     "execution_count": 34,
>>>>>>> 79bafd7a3b3c6edaed7833b4c2e97f5f5778226f
     "metadata": {},
     "output_type": "execute_result"
    }
   ],
   "source": [
    "best_depth = results_df['valid_score'].idxmax()\n",
    "best_depth"
   ]
  },
  {
   "cell_type": "markdown",
   "metadata": {},
   "source": [
    "### Discuss the following questions in your group\n",
    "\n",
    "1.\tAt which depth(s) are we underfitting? At which depth(s) are we overfitting?\n",
    "2.\tAbove, we chose the depth that gives us the best cross-validation score. Is it always a good idea to select this depth? What if a simpler model with a smaller max_depth gives nearly the same cross-validation score?\n",
    "3.\tIf our main concern is test scores, why don't we use the test set during training?\n",
    "4.\tDo you trust our hyperparameter optimization process? In other words, do you believe we've found the best possible depth?"
   ]
  },
  {
   "cell_type": "markdown",
   "metadata": {},
   "source": [
    "<br><br>"
   ]
  },
  {
   "cell_type": "markdown",
   "metadata": {},
   "source": [
    "## Assessing on the test set"
   ]
  },
  {
   "cell_type": "code",
<<<<<<< HEAD
   "execution_count": 70,
=======
   "execution_count": 35,
>>>>>>> 79bafd7a3b3c6edaed7833b4c2e97f5f5778226f
   "metadata": {},
   "outputs": [
    {
     "data": {
      "text/plain": [
       "0.9308647034083802"
      ]
     },
<<<<<<< HEAD
     "execution_count": 70,
=======
     "execution_count": 35,
>>>>>>> 79bafd7a3b3c6edaed7833b4c2e97f5f5778226f
     "metadata": {},
     "output_type": "execute_result"
    }
   ],
   "source": [
    "# Train a model with the best depth of the full training data\n",
    "dt_final = DecisionTreeRegressor(max_depth=best_depth, random_state=123)\n",
    "dt_final.fit(X_train, y_train)\n",
    "dt_final.score(X_train, y_train)"
   ]
  },
  {
   "cell_type": "code",
<<<<<<< HEAD
   "execution_count": 71,
=======
   "execution_count": 36,
>>>>>>> 79bafd7a3b3c6edaed7833b4c2e97f5f5778226f
   "metadata": {},
   "outputs": [
    {
     "data": {
      "text/plain": [
       "0.7784948928666875"
      ]
     },
<<<<<<< HEAD
     "execution_count": 71,
=======
     "execution_count": 36,
>>>>>>> 79bafd7a3b3c6edaed7833b4c2e97f5f5778226f
     "metadata": {},
     "output_type": "execute_result"
    }
   ],
   "source": [
    "dt_final.score(X_test, y_test)"
   ]
  },
  {
   "cell_type": "markdown",
   "metadata": {},
   "source": [
    "How do these scores compare to the scores when we used a single validation set? "
   ]
  },
  {
   "cell_type": "markdown",
   "metadata": {},
   "source": [
    "### Learned model "
   ]
  },
  {
   "cell_type": "code",
<<<<<<< HEAD
   "execution_count": 72,
=======
   "execution_count": 37,
>>>>>>> 79bafd7a3b3c6edaed7833b4c2e97f5f5778226f
   "metadata": {},
   "outputs": [
    {
     "data": {
      "text/plain": [
       "11"
      ]
     },
<<<<<<< HEAD
     "execution_count": 72,
=======
     "execution_count": 37,
>>>>>>> 79bafd7a3b3c6edaed7833b4c2e97f5f5778226f
     "metadata": {},
     "output_type": "execute_result"
    }
   ],
   "source": [
    "#What's the depth of the model? \n",
    "dt_final.get_depth()"
   ]
  },
  {
   "cell_type": "code",
   "execution_count": 38,
   "metadata": {},
   "outputs": [],
   "source": [
    "# plot_tree(dt_final, feature_names = X_train.columns.tolist(), impurity=False, filled=True);"
   ]
  },
  {
   "cell_type": "code",
<<<<<<< HEAD
   "execution_count": 73,
=======
   "execution_count": 39,
>>>>>>> 79bafd7a3b3c6edaed7833b4c2e97f5f5778226f
   "metadata": {},
   "outputs": [
    {
     "data": {
      "text/plain": [
       "array([0.00080741, 0.00327551, 0.25123925, 0.01808825, 0.00079645,\n",
       "       0.03213916, 0.01190633, 0.00106308, 0.36400802, 0.02313684,\n",
       "       0.00295235, 0.01209545, 0.00064647, 0.17216105, 0.06835056,\n",
       "       0.02416048, 0.01317334])"
      ]
     },
<<<<<<< HEAD
     "execution_count": 73,
=======
     "execution_count": 39,
>>>>>>> 79bafd7a3b3c6edaed7833b4c2e97f5f5778226f
     "metadata": {},
     "output_type": "execute_result"
    }
   ],
   "source": [
    "# Which features are the most important ones?\n",
    "dt_final.feature_importances_"
   ]
  },
  {
   "cell_type": "markdown",
   "metadata": {},
   "source": [
    "Let's examine feature importances. "
   ]
  },
  {
   "cell_type": "code",
<<<<<<< HEAD
   "execution_count": 74,
=======
   "execution_count": 40,
>>>>>>> 79bafd7a3b3c6edaed7833b4c2e97f5f5778226f
   "metadata": {},
   "outputs": [
    {
     "data": {
      "text/html": [
       "<div>\n",
       "<style scoped>\n",
       "    .dataframe tbody tr th:only-of-type {\n",
       "        vertical-align: middle;\n",
       "    }\n",
       "\n",
       "    .dataframe tbody tr th {\n",
       "        vertical-align: top;\n",
       "    }\n",
       "\n",
       "    .dataframe thead th {\n",
       "        text-align: right;\n",
       "    }\n",
       "</style>\n",
       "<table border=\"1\" class=\"dataframe\">\n",
       "  <thead>\n",
       "    <tr style=\"text-align: right;\">\n",
       "      <th></th>\n",
       "      <th>features</th>\n",
       "      <th>feature_importances</th>\n",
       "    </tr>\n",
       "  </thead>\n",
       "  <tbody>\n",
       "    <tr>\n",
       "      <th>8</th>\n",
       "      <td>grade</td>\n",
       "      <td>0.364008</td>\n",
       "    </tr>\n",
       "    <tr>\n",
       "      <th>2</th>\n",
       "      <td>sqft_living</td>\n",
       "      <td>0.251239</td>\n",
       "    </tr>\n",
       "    <tr>\n",
       "      <th>13</th>\n",
       "      <td>lat</td>\n",
       "      <td>0.172161</td>\n",
       "    </tr>\n",
       "    <tr>\n",
       "      <th>14</th>\n",
       "      <td>long</td>\n",
       "      <td>0.068351</td>\n",
       "    </tr>\n",
       "    <tr>\n",
       "      <th>5</th>\n",
       "      <td>waterfront</td>\n",
       "      <td>0.032139</td>\n",
       "    </tr>\n",
       "    <tr>\n",
       "      <th>15</th>\n",
       "      <td>sqft_living15</td>\n",
       "      <td>0.024160</td>\n",
       "    </tr>\n",
       "    <tr>\n",
       "      <th>9</th>\n",
       "      <td>sqft_above</td>\n",
       "      <td>0.023137</td>\n",
       "    </tr>\n",
       "    <tr>\n",
       "      <th>3</th>\n",
       "      <td>sqft_lot</td>\n",
       "      <td>0.018088</td>\n",
       "    </tr>\n",
       "    <tr>\n",
       "      <th>16</th>\n",
       "      <td>sqft_lot15</td>\n",
       "      <td>0.013173</td>\n",
       "    </tr>\n",
       "    <tr>\n",
       "      <th>11</th>\n",
       "      <td>yr_built</td>\n",
       "      <td>0.012095</td>\n",
       "    </tr>\n",
       "    <tr>\n",
       "      <th>6</th>\n",
       "      <td>view</td>\n",
       "      <td>0.011906</td>\n",
       "    </tr>\n",
       "    <tr>\n",
       "      <th>1</th>\n",
       "      <td>bathrooms</td>\n",
       "      <td>0.003276</td>\n",
       "    </tr>\n",
       "    <tr>\n",
       "      <th>10</th>\n",
       "      <td>sqft_basement</td>\n",
       "      <td>0.002952</td>\n",
       "    </tr>\n",
       "    <tr>\n",
       "      <th>7</th>\n",
       "      <td>condition</td>\n",
       "      <td>0.001063</td>\n",
       "    </tr>\n",
       "    <tr>\n",
       "      <th>0</th>\n",
       "      <td>bedrooms</td>\n",
       "      <td>0.000807</td>\n",
       "    </tr>\n",
       "    <tr>\n",
       "      <th>4</th>\n",
       "      <td>floors</td>\n",
       "      <td>0.000796</td>\n",
       "    </tr>\n",
       "    <tr>\n",
       "      <th>12</th>\n",
       "      <td>yr_renovated</td>\n",
       "      <td>0.000646</td>\n",
       "    </tr>\n",
       "  </tbody>\n",
       "</table>\n",
       "</div>"
      ],
      "text/plain": [
       "         features  feature_importances\n",
       "8           grade             0.364008\n",
       "2     sqft_living             0.251239\n",
       "13            lat             0.172161\n",
       "14           long             0.068351\n",
       "5      waterfront             0.032139\n",
       "15  sqft_living15             0.024160\n",
       "9      sqft_above             0.023137\n",
       "3        sqft_lot             0.018088\n",
       "16     sqft_lot15             0.013173\n",
       "11       yr_built             0.012095\n",
       "6            view             0.011906\n",
       "1       bathrooms             0.003276\n",
       "10  sqft_basement             0.002952\n",
       "7       condition             0.001063\n",
       "0        bedrooms             0.000807\n",
       "4          floors             0.000796\n",
       "12   yr_renovated             0.000646"
      ]
     },
<<<<<<< HEAD
     "execution_count": 74,
=======
     "execution_count": 40,
>>>>>>> 79bafd7a3b3c6edaed7833b4c2e97f5f5778226f
     "metadata": {},
     "output_type": "execute_result"
    }
   ],
   "source": [
    "df = pd.DataFrame( \n",
    "    data = {\n",
    "        \"features\": dt_final.feature_names_in_,\n",
    "        \"feature_importances\": dt_final.feature_importances_\n",
    "    }\n",
    ")\n",
    "df.sort_values(\"feature_importances\", ascending=False)"
   ]
  },
  {
   "cell_type": "markdown",
   "metadata": {},
   "source": [
    "<br><br>"
   ]
  },
  {
   "cell_type": "markdown",
   "metadata": {},
   "source": [
    "## Concepts we revised in this demo\n",
    "\n",
    "- Exploratory data analysis\n",
    "- Baselines\n",
    "- Data splitting: train, test, validation sets\n",
    "- Cross validation\n",
    "- Underfitting, overfitting, the fundamental tradeoff\n",
    "- The golden rule of supervised ML"
   ]
  },
  {
   "cell_type": "markdown",
   "metadata": {},
   "source": [
    "## Typical steps to build a supervised machine learning model\n",
    "\n",
    "- Ensure the data is appropriate for your task (e.g., labeled data, suitable features).\n",
    "- Split the data into training and testing sets.\n",
    "- Perform exploratory data analysis (EDA) on the training data to understand distributions, identify patterns, and detect potential issues.\n",
    "- Preprocess and encode features (e.g., handle missing values, scale features, encode categorical variables).\n",
    "    - coming up \n",
    "- Build a baseline model to establish a performance benchmark.\n",
    "- Train multiple candidate models on the training data.\n",
    "    - coming up  \n",
    "- Select promising models and perform hyperparameter tuning using cross-validation.\n",
    "    - coming up \n",
    "- Evaluate the generalization performance of the best model on the test set.\n"
   ]
  },
  {
   "cell_type": "markdown",
   "metadata": {},
   "source": [
    "<br><br>"
   ]
  }
 ],
 "metadata": {
  "celltoolbar": "Slideshow",
  "kernelspec": {
   "display_name": "cpsc330",
   "language": "python",
   "name": "python3"
  },
  "language_info": {
   "codemirror_mode": {
    "name": "ipython",
    "version": 3
   },
   "file_extension": ".py",
   "mimetype": "text/x-python",
   "name": "python",
   "nbconvert_exporter": "python",
   "pygments_lexer": "ipython3",
   "version": "3.12.0"
  }
 },
 "nbformat": 4,
 "nbformat_minor": 4
}
